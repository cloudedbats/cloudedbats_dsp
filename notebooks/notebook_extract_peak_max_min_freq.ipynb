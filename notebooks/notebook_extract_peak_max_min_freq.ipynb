{
 "cells": [
  {
   "cell_type": "markdown",
   "metadata": {
    "collapsed": true,
    "deletable": true,
    "editable": true
   },
   "source": [
    "### Extract peak, max and min freq.\n",
    "\n",
    "Early test. The most useful part is the 'calc_dbfs_spectrum()' function."
   ]
  },
  {
   "cell_type": "code",
   "execution_count": 1,
   "metadata": {
    "collapsed": true,
    "deletable": true,
    "editable": true
   },
   "outputs": [],
   "source": [
    "import numpy as np\n",
    "import matplotlib.pyplot as plt\n",
    "import scipy.io.wavfile as wf\n",
    "from scipy.signal import blackmanharris"
   ]
  },
  {
   "cell_type": "code",
   "execution_count": 2,
   "metadata": {
    "collapsed": false,
    "deletable": true,
    "editable": true
   },
   "outputs": [],
   "source": [
    "# Settings.\n",
    "self_window_size = 8192\n",
    "self_window_size = 4096\n",
    "self_window_size = 2048\n",
    "self_window_size = 1024\n",
    "self_window_size = 512\n",
    "self_window_size = 256\n",
    "#self_window_size = 128\n",
    "#self_window_size = 64\n",
    "#self_window_size = 32\n",
    "\n",
    "wave_file_path = 'in_data/myotis_plecotus_eptesicus_TE384.wav'\n"
   ]
  },
  {
   "cell_type": "code",
   "execution_count": 3,
   "metadata": {
    "collapsed": false,
    "deletable": true,
    "editable": true
   },
   "outputs": [],
   "source": [
    "# Related to settings only.\n",
    "self_hamming_window = np.hamming(self_window_size)\n",
    "self_hamming_dbfs_max = np.sum(self_hamming_window) / 2 # Max db value in window. DBFS = db full scale. Half spectrum used.\n",
    "self_blackmanharris_window = blackmanharris(self_window_size)\n",
    "self_blackmanharris_dbfs_max = np.sum(self_blackmanharris_window) / 2 # Max db value in window. dbFS = db full scale. Half spectrum used."
   ]
  },
  {
   "cell_type": "code",
   "execution_count": 4,
   "metadata": {
    "collapsed": true,
    "deletable": true,
    "editable": true
   },
   "outputs": [],
   "source": [
    "# \n",
    "def calc_dbfs_spectrum(signal, window_function, dbfs_max):\n",
    "    signal = signal * window_function\n",
    "    spectrum = np.fft.rfft(signal)\n",
    "    dbfs_spectrum = 20 * np.log10(np.abs(spectrum) / dbfs_max)\n",
    "    return dbfs_spectrum\n"
   ]
  },
  {
   "cell_type": "code",
   "execution_count": 5,
   "metadata": {
    "collapsed": false,
    "deletable": true,
    "editable": true
   },
   "outputs": [
    {
     "name": "stdout",
     "output_type": "stream",
     "text": [
      "9216000\n"
     ]
    }
   ],
   "source": [
    "# File.\n",
    "self_sampling_frequency, signal_buffer_int16 = wf.read(wave_file_path)\n",
    "signal_buffer = signal_buffer_int16 / 32768 # From singed int16 to [-1.0, 1.0]\n",
    "\n",
    "self_freq_bins = np.arange((self_window_size / 2) + 1) / (self_window_size / self_sampling_frequency)\n",
    "\n",
    "self_signal_length = len(signal_buffer)\n",
    "print(self_signal_length)"
   ]
  },
  {
   "cell_type": "code",
   "execution_count": 6,
   "metadata": {
    "collapsed": false,
    "deletable": true,
    "editable": true
   },
   "outputs": [
    {
     "name": "stdout",
     "output_type": "stream",
     "text": [
      "19\n"
     ]
    }
   ],
   "source": [
    "start_sec = 45.0\n",
    "stop_sec = 46.0\n",
    "#start_sec = 101.0\n",
    "#stop_sec = 105.1\n",
    "#start_sec = 3*60.0 + 8.0\n",
    "#stop_sec = 3*60.0 + 10.0\n",
    "\n",
    "step_size_ms = 0.05\n",
    "#step_size_ms = 0.2 # Used for zero-crossing.\n",
    "\n",
    "step = int(start_sec * self_sampling_frequency)\n",
    "stop_step = int(stop_sec * self_sampling_frequency)\n",
    "#step_size = int(self_sampling_frequency / 500)\n",
    "step_size = int(self_sampling_frequency / (100 / step_size_ms))\n",
    "print(step_size)\n",
    "\n",
    "dbmax=0\n",
    "dbmax_old=0"
   ]
  },
  {
   "cell_type": "code",
   "execution_count": 7,
   "metadata": {
    "collapsed": false,
    "deletable": true,
    "editable": true
   },
   "outputs": [
    {
     "name": "stdout",
     "output_type": "stream",
     "text": [
      "1766418   46.00046875\n"
     ]
    }
   ],
   "source": [
    "pulse_active = False\n",
    "\n",
    "result_x_sec = []\n",
    "result_y_max = []\n",
    "result_y_peak = []\n",
    "result_y_minfr = []\n",
    "result_y_maxfr = []\n",
    "\n",
    "dbfs_spectrum = calc_dbfs_spectrum(signal_buffer[step:step+self_window_size], \n",
    "                                   self_blackmanharris_window, self_blackmanharris_dbfs_max)\n",
    "dbmax_old=np.max(dbfs_spectrum)\n",
    "dbmax=np.max(dbfs_spectrum)\n",
    "\n",
    "#while (step+self_window_size*2) < self_signal_length:\n",
    "#while (step+self_window_size*2) < 2000000:\n",
    "while step < stop_step:\n",
    "    \n",
    "    if abs(dbmax_old - dbmax) > 15:\n",
    "        if dbmax_old < dbmax: pulse_active = True\n",
    "        if dbmax_old > dbmax: pulse_active = False\n",
    "        dbmax_old = dbmax\n",
    "        \n",
    "    if pulse_active:\n",
    "        sec = step / self_sampling_frequency\n",
    "        bin_peak_index = dbfs_spectrum.argmax()\n",
    "        peak_frequency_hz = bin_peak_index * self_sampling_frequency / self_window_size *10 # 10=TE\n",
    "        min_fr = peak_frequency_hz\n",
    "        max_fr = peak_frequency_hz\n",
    "        peak_db = dbfs_spectrum[bin_peak_index]\n",
    "        #dbfs_spectrum_boolean = np.where(dbfs_spectrum > (peak_db - 40), True, False)\n",
    "        #dbfs_spectrum_boolean = np.where(dbfs_spectrum > (-60), True, False)\n",
    "        \n",
    "        test = np.nonzero(dbfs_spectrum > (-55))\n",
    "        if len(test[0]) > 0:\n",
    "            index_min = test[0][0]\n",
    "            index_max = test[0][-1]\n",
    "            min_fr = index_min * self_sampling_frequency / self_window_size * 10\n",
    "            max_fr = (index_max) * self_sampling_frequency / self_window_size * 10\n",
    "        \n",
    "        #for index_min, value in enumerate(dbfs_spectrum_boolean):\n",
    "        #    if value == True:\n",
    "        #        min_fr = index_min * self_sampling_frequency / self_window_size * 10\n",
    "        #        break\n",
    "        #for index_max, value in enumerate(dbfs_spectrum_boolean[index_min:]):\n",
    "        #    if value == False:\n",
    "        #        max_fr = (index_min + index_max) * self_sampling_frequency / self_window_size * 10\n",
    "        #        break\n",
    "\n",
    "        result_x_sec.append(sec)\n",
    "        result_y_max.append(dbmax)\n",
    "        result_y_peak.append(peak_frequency_hz)\n",
    "        result_y_minfr.append(min_fr)\n",
    "        result_y_maxfr.append(max_fr)\n",
    "\n",
    "    dbfs_spectrum = calc_dbfs_spectrum(signal_buffer[step:step+self_window_size], \n",
    "#                                       self_hamming_window, self_hamming_dbfs_max)\n",
    "                                       self_blackmanharris_window, self_blackmanharris_dbfs_max)\n",
    "    dbmax=np.max(dbfs_spectrum)\n",
    "\n",
    "    step += step_size    \n",
    "#\n",
    "sec = step / self_sampling_frequency\n",
    "print(str(step) + '   ' + str(sec))\n",
    "\n",
    "#plt.plot(self_freq_bins, dbfs_spectrum)\n",
    "#plt.grid(True)\n",
    "#plt.xlabel('Frequency [Hz]')\n",
    "#plt.ylabel('Amplitude [dB]')\n",
    "#plt.ylim((-120,0))\n",
    "#plt.show()\n"
   ]
  },
  {
   "cell_type": "code",
   "execution_count": 8,
   "metadata": {
    "collapsed": false,
    "deletable": true,
    "editable": true
   },
   "outputs": [
    {
     "data": {
      "image/png": "[encoded data removed]",
      "text/plain": [
       "<matplotlib.figure.Figure at 0x7f6d99e6b400>"
      ]
     },
     "metadata": {},
     "output_type": "display_data"
    }
   ],
   "source": [
    "sizes = [(x+abs(min(result_y_max)))**1.2 for x in result_y_max]\n",
    "plt.scatter(result_x_sec, result_y_max, s=sizes)\n",
    "plt.grid(True)\n",
    "plt.xlabel('Time [sec]')\n",
    "plt.ylabel('Amplitude [dbFS]')\n",
    "plt.ylim((-100,0))\n",
    "plt.show()\n"
   ]
  },
  {
   "cell_type": "code",
   "execution_count": 9,
   "metadata": {
    "collapsed": false,
    "deletable": true,
    "editable": true,
    "scrolled": true
   },
   "outputs": [
    {
     "data": {
      "image/png": "[encoded data removed]",
      "text/plain": [
       "<matplotlib.figure.Figure at 0x7f6d99da90f0>"
      ]
     },
     "metadata": {},
     "output_type": "display_data"
    }
   ],
   "source": [
    "sizes = [(x+abs(min(result_y_max)))**1.2 for x in result_y_max]\n",
    "plt.scatter(result_x_sec, result_y_peak, s=sizes, c=sizes)\n",
    "#plt.summer()\n",
    "#plt.winter()\n",
    "#plt.autumn()\n",
    "plt.viridis()\n",
    "#plt.gray()\n",
    "plt.grid(True)\n",
    "plt.xlabel('Time [sec]')\n",
    "plt.ylabel('Peak [kHz]')\n",
    "plt.ylim((0,120000))\n",
    "plt.show()\n"
   ]
  },
  {
   "cell_type": "code",
   "execution_count": 10,
   "metadata": {
    "collapsed": false,
    "deletable": true,
    "editable": true
   },
   "outputs": [
    {
     "data": {
      "image/png": "[encoded data removed]",
      "text/plain": [
       "<matplotlib.figure.Figure at 0x7f6d99d22d68>"
      ]
     },
     "metadata": {},
     "output_type": "display_data"
    }
   ],
   "source": [
    "plt.scatter(result_x_sec, result_y_peak, marker='o', s=1, color='b')\n",
    "plt.scatter(result_x_sec, result_y_minfr, marker='o', s=1, color='g')\n",
    "plt.scatter(result_x_sec, result_y_maxfr, marker='o', s=1, color='r')\n",
    "\n",
    "plt.grid(True)\n",
    "plt.xlabel('Time [sec]')\n",
    "plt.ylabel('Freq [kHz]')\n",
    "plt.ylim((0,120000))\n",
    "plt.show()\n"
   ]
  },
  {
   "cell_type": "code",
   "execution_count": null,
   "metadata": {
    "collapsed": true,
    "deletable": true,
    "editable": true
   },
   "outputs": [],
   "source": []
  },
  {
   "cell_type": "code",
   "execution_count": null,
   "metadata": {
    "collapsed": true,
    "deletable": true,
    "editable": true
   },
   "outputs": [],
   "source": []
  },
  {
   "cell_type": "code",
   "execution_count": null,
   "metadata": {
    "collapsed": true,
    "deletable": true,
    "editable": true
   },
   "outputs": [],
   "source": []
  }
 ],
 "metadata": {
  "kernelspec": {
   "display_name": "Python 3",
   "language": "python",
   "name": "python3"
  },
  "language_info": {
   "codemirror_mode": {
    "name": "ipython",
    "version": 3
   },
   "file_extension": ".py",
   "mimetype": "text/x-python",
   "name": "python",
   "nbconvert_exporter": "python",
   "pygments_lexer": "ipython3",
   "version": "3.5.2"
  }
 },
 "nbformat": 4,
 "nbformat_minor": 2
}
