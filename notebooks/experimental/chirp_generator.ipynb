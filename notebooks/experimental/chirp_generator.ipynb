{
 "cells": [
  {
   "cell_type": "markdown",
   "metadata": {},
   "source": [
    "# Synthetic chirp generator.\n"
   ]
  },
  {
   "cell_type": "code",
   "execution_count": 1,
   "metadata": {},
   "outputs": [],
   "source": [
    "%matplotlib inline\n",
    "import matplotlib.pyplot as plt\n",
    "plt.rcParams['figure.figsize'] = (15, 4)"
   ]
  },
  {
   "cell_type": "code",
   "execution_count": 2,
   "metadata": {},
   "outputs": [],
   "source": [
    "import numpy as np\n",
    "import scipy\n",
    "import scipy.signal\n",
    "import librosa"
   ]
  },
  {
   "cell_type": "code",
   "execution_count": 3,
   "metadata": {},
   "outputs": [],
   "source": [
    "# Settings.\n",
    "sampling_freq = 384000\n",
    "start_freq = 120000\n",
    "end_freq = 40000\n",
    "duration= 0.008\n",
    "time_between_chirps = 0.1\n",
    "max_amplitude = 0.3\n",
    "noise_level = 0.002\n",
    "number_of_chirps = 10\n",
    "file_name = 'chirp_120_to_40_khz_TE384.wav'"
   ]
  },
  {
   "cell_type": "code",
   "execution_count": 4,
   "metadata": {},
   "outputs": [
    {
     "data": {
      "text/plain": [
       "3072"
      ]
     },
     "execution_count": 4,
     "metadata": {},
     "output_type": "execute_result"
    }
   ],
   "source": [
    "# Create chirp.\n",
    "time = np.linspace(0, duration, int(sampling_freq * duration))\n",
    "chirp = scipy.signal.waveforms.chirp(time, \n",
    "                                     f0=start_freq, \n",
    "                                     f1=end_freq, \n",
    "                                     t1=duration, \n",
    "                                     method='quadratic', \n",
    "                                     vertex_zero=False)\n",
    "len(chirp)"
   ]
  },
  {
   "cell_type": "code",
   "execution_count": 5,
   "metadata": {},
   "outputs": [
    {
     "name": "stderr",
     "output_type": "stream",
     "text": [
      "/home/parallels/Desktop/dev/w_cloudedbats/cloudedbats_dsp/venv/lib/python3.6/site-packages/ipykernel_launcher.py:2: DeprecationWarning: `hanning` is deprecated, use `scipy.signal.windows.hann` instead!\n",
      "  \n"
     ]
    }
   ],
   "source": [
    "# Apply window function.\n",
    "chirp = chirp * scipy.signal.hanning(len(time)) * max_amplitude"
   ]
  },
  {
   "cell_type": "code",
   "execution_count": 6,
   "metadata": {},
   "outputs": [
    {
     "name": "stdout",
     "output_type": "stream",
     "text": [
      "0.092\n"
     ]
    }
   ],
   "source": [
    "# Create silent part.\n",
    "silent_duration = time_between_chirps - duration\n",
    "silent = np.zeros(int(sampling_freq * silent_duration))\n",
    "print(silent_duration)"
   ]
  },
  {
   "cell_type": "code",
   "execution_count": 7,
   "metadata": {},
   "outputs": [],
   "source": [
    "# Build sequence.\n",
    "signal = silent[:int(len(silent)/2)] # Start with half lenght silence.\n",
    "for index in range(number_of_chirps):\n",
    "    signal = np.concatenate((signal, chirp, silent))"
   ]
  },
  {
   "cell_type": "code",
   "execution_count": 8,
   "metadata": {},
   "outputs": [],
   "source": [
    "# Add noise.\n",
    "signal = signal + np.random.randn(len(signal)) * noise_level"
   ]
  },
  {
   "cell_type": "code",
   "execution_count": 9,
   "metadata": {
    "scrolled": true
   },
   "outputs": [
    {
     "data": {
      "image/png": "[encoded data removed]",
      "text/plain": [
       "<Figure size 432x288 with 1 Axes>"
      ]
     },
     "metadata": {
      "needs_background": "light"
     },
     "output_type": "display_data"
    }
   ],
   "source": [
    "# Plot signal.\n",
    "plt.plot(signal)\n",
    "plt.show()"
   ]
  },
  {
   "cell_type": "code",
   "execution_count": 10,
   "metadata": {},
   "outputs": [],
   "source": [
    "# Write to file in Time Expanded mode.\n",
    "freq = int(sampling_freq / 10)\n",
    "librosa.output.write_wav(file_name, signal, freq)"
   ]
  },
  {
   "cell_type": "code",
   "execution_count": null,
   "metadata": {},
   "outputs": [],
   "source": []
  }
 ],
 "metadata": {
  "kernelspec": {
   "display_name": "Python 3",
   "language": "python",
   "name": "python3"
  },
  "language_info": {
   "codemirror_mode": {
    "name": "ipython",
    "version": 3
   },
   "file_extension": ".py",
   "mimetype": "text/x-python",
   "name": "python",
   "nbconvert_exporter": "python",
   "pygments_lexer": "ipython3",
   "version": "3.6.8"
  }
 },
 "nbformat": 4,
 "nbformat_minor": 2
}
