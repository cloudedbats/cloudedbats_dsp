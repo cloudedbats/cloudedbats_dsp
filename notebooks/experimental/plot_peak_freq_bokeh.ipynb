{
 "cells": [
  {
   "cell_type": "markdown",
   "metadata": {},
   "source": [
    "### Plot peak frequencies from text file."
   ]
  },
  {
   "cell_type": "code",
   "execution_count": 1,
   "metadata": {},
   "outputs": [
    {
     "ename": "ModuleNotFoundError",
     "evalue": "No module named 'bokeh.charts'",
     "output_type": "error",
     "traceback": [
      "\u001b[0;31m---------------------------------------------------------------------------\u001b[0m",
      "\u001b[0;31mModuleNotFoundError\u001b[0m                       Traceback (most recent call last)",
      "\u001b[0;32m<ipython-input-1-aaa6df7f3a88>\u001b[0m in \u001b[0;36m<module>\u001b[0;34m\u001b[0m\n\u001b[1;32m      2\u001b[0m \u001b[0;32mfrom\u001b[0m \u001b[0mbokeh\u001b[0m\u001b[0;34m.\u001b[0m\u001b[0mplotting\u001b[0m \u001b[0;32mimport\u001b[0m \u001b[0moutput_file\u001b[0m\u001b[0;34m,\u001b[0m \u001b[0mshow\u001b[0m\u001b[0;34m,\u001b[0m \u001b[0mfigure\u001b[0m\u001b[0;34m\u001b[0m\u001b[0;34m\u001b[0m\u001b[0m\n\u001b[1;32m      3\u001b[0m \u001b[0;32mfrom\u001b[0m \u001b[0mbokeh\u001b[0m\u001b[0;34m.\u001b[0m\u001b[0mio\u001b[0m \u001b[0;32mimport\u001b[0m \u001b[0moutput_notebook\u001b[0m\u001b[0;34m\u001b[0m\u001b[0;34m\u001b[0m\u001b[0m\n\u001b[0;32m----> 4\u001b[0;31m \u001b[0;32mfrom\u001b[0m \u001b[0mbokeh\u001b[0m\u001b[0;34m.\u001b[0m\u001b[0mcharts\u001b[0m \u001b[0;32mimport\u001b[0m \u001b[0mScatter\u001b[0m\u001b[0;34m,\u001b[0m \u001b[0mshow\u001b[0m\u001b[0;34m\u001b[0m\u001b[0;34m\u001b[0m\u001b[0m\n\u001b[0m\u001b[1;32m      5\u001b[0m \u001b[0;31m#from bokeh.charts import Scatter, output_file, show\u001b[0m\u001b[0;34m\u001b[0m\u001b[0;34m\u001b[0m\u001b[0;34m\u001b[0m\u001b[0m\n\u001b[1;32m      6\u001b[0m \u001b[0;31m#from bokeh.sampledata.autompg import autompg as df\u001b[0m\u001b[0;34m\u001b[0m\u001b[0;34m\u001b[0m\u001b[0;34m\u001b[0m\u001b[0m\n",
      "\u001b[0;31mModuleNotFoundError\u001b[0m: No module named 'bokeh.charts'"
     ]
    }
   ],
   "source": [
    "#from bokeh import mpl\n",
    "from bokeh.plotting import output_file, show, figure\n",
    "from bokeh.io import output_notebook\n",
    "from bokeh.charts import Scatter, show\n",
    "#from bokeh.charts import Scatter, output_file, show\n",
    "#from bokeh.sampledata.autompg import autompg as df\n",
    "from bokeh.charts import defaults\n",
    "from bokeh.models import Range1d\n",
    "from bokeh.models import HoverTool\n",
    "\n",
    "from bokeh.models.sources import ColumnDataSource\n",
    "\n",
    "import pandas as pd\n",
    "import numpy as np"
   ]
  },
  {
   "cell_type": "code",
   "execution_count": null,
   "metadata": {},
   "outputs": [],
   "source": [
    "#file_path = '../data_in/Mdau_TE384_ANALYSIS_RESULTS.txt'\n",
    "file_path = '../data_in/Ppip_TE384_ANALYSIS_RESULTS.txt'\n",
    "#file_path = '../data_in/Myotis-Plecotus-Eptesicus_TE384_ANALYSIS_RESULTS.txt'\n",
    "\n",
    "peak_df = pd.read_csv(file_path, sep=\"\\t\")\n",
    "peak_df.head()"
   ]
  },
  {
   "cell_type": "code",
   "execution_count": null,
   "metadata": {},
   "outputs": [],
   "source": [
    "output_notebook()\n"
   ]
  },
  {
   "cell_type": "code",
   "execution_count": null,
   "metadata": {
    "scrolled": false
   },
   "outputs": [],
   "source": [
    "#ds = ColumnDataSource(peak_df_2)\n",
    "ds = ColumnDataSource(peak_df)\n",
    "\n",
    "#hover = HoverTool(tooltips=[\n",
    "#         (\"Time\", \"time_s\"),\n",
    "#         (\"Frequency\", \"frequency\"),\n",
    "#         (\"Amplitude\", \"amplitude\")])\n",
    "\n",
    "# TOOLS=\"hover\"\n",
    "TOOLS=\"wheel_zoom,box_zoom,undo,redo,reset,resize,pan,previewsave\"\n",
    "# TOOLS=\"undo,redo,resize,crosshair,pan,wheel_zoom,box_zoom,reset,tap,previewsave,box_select,poly_select,lasso_select\"\n",
    "p = figure(tools=TOOLS, toolbar_location=\"above\")\n",
    "p.title.text=file_path\n",
    "p.plot_width = 1200 # 1800\n",
    "p.plot_height = 600\n",
    "\n",
    "s = p.scatter(source = ds, x='time_s', y='frequency_khz', \n",
    "          marker='circle', \n",
    "#          size='dbfs',\n",
    "          line_color=\"navy\", fill_color=\"red\", alpha=0.5,\n",
    "          )\n",
    "p.xaxis.axis_label=\"Time (sec)\"\n",
    "p.yaxis.axis_label=\"Peak frequency (kHz)\"\n",
    "p.x_range = Range1d(0, 1, bounds=(0, 1))\n",
    "p.y_range = Range1d(0, 100, bounds=(0, 150))\n",
    "\n",
    "\n",
    "\n",
    "#hover = p.select_one(HoverTool)\n",
    "#hover.point_policy = \"follow_mouse\"\n",
    "#hover.tooltips = [\n",
    "#         (\"Frequency (kHz)\", \"@frequency_khz\"),\n",
    "#         (\"dBFS           \", \"@dbfs\"),\n",
    "#         (\"Time (sec.)    \", \"@time_s\")]\n",
    "\n",
    "output_file(\"scatter.html\")\n",
    "show(p)\n"
   ]
  },
  {
   "cell_type": "code",
   "execution_count": null,
   "metadata": {},
   "outputs": [],
   "source": []
  },
  {
   "cell_type": "code",
   "execution_count": null,
   "metadata": {},
   "outputs": [],
   "source": []
  },
  {
   "cell_type": "code",
   "execution_count": null,
   "metadata": {},
   "outputs": [],
   "source": []
  }
 ],
 "metadata": {
  "kernelspec": {
   "display_name": "Python 3",
   "language": "python",
   "name": "python3"
  },
  "language_info": {
   "codemirror_mode": {
    "name": "ipython",
    "version": 3
   },
   "file_extension": ".py",
   "mimetype": "text/x-python",
   "name": "python",
   "nbconvert_exporter": "python",
   "pygments_lexer": "ipython3",
   "version": "3.6.8"
  }
 },
 "nbformat": 4,
 "nbformat_minor": 1
}
