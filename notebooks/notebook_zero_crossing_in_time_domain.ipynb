{
 "cells": [
  {
   "cell_type": "markdown",
   "metadata": {
    "collapsed": true,
    "deletable": true,
    "editable": true
   },
   "source": [
    "# Wave (.wav) to Zero Crossing.\n",
    "\n",
    "This is an attempt to produce synthetic ZC (Zero Crossing) from FS (Full Scan) files. All parts are calculated in the time domain to mimic true ZC. FFT is not used (with the exception of the internal implementation of the Butterworth filter).\n",
    "\n",
    "Current status: Seems to work well for \"easy files\", but not for mixed and low amplitude recordings. I don't know why...\n",
    "\n",
    "The resulting plot is both embedded in this notebook and as a separate html file: 'notebook_zero_crossing_in_time_domain.html'.\n",
    "\n",
    "Sources in information/inspiration:\n",
    "\n",
    "- http://users.lmi.net/corben/fileform.htm#Anabat%20File%20Formats\n",
    "- https://stackoverflow.com/questions/3843017/efficiently-detect-sign-changes-in-python\n",
    "- https://github.com/riggsd/zcant/blob/master/zcant/conversion.py\n"
   ]
  },
  {
   "cell_type": "code",
   "execution_count": 1,
   "metadata": {
    "collapsed": true,
    "deletable": true,
    "editable": true
   },
   "outputs": [],
   "source": [
    "import numpy as np\n",
    "import scipy.io.wavfile as wf\n",
    "import scipy.signal\n",
    "import sounddevice\n",
    "from bokeh.io import output_notebook\n",
    "from bokeh.plotting import output_file, show, figure\n",
    "from bokeh.charts import Scatter\n",
    "from bokeh.models import Range1d, HoverTool"
   ]
  },
  {
   "cell_type": "code",
   "execution_count": 2,
   "metadata": {
    "collapsed": false,
    "deletable": true,
    "editable": true
   },
   "outputs": [
    {
     "data": {
      "text/html": [
       "\n",
       "    <div class=\"bk-root\">\n",
       "        <a href=\"http://bokeh.pydata.org\" target=\"_blank\" class=\"bk-logo bk-logo-small bk-logo-notebook\"></a>\n",
       "        <span id=\"eb8695c7-12fe-4514-a8f0-6fc33a76f785\">Loading BokehJS ...</span>\n",
       "    </div>"
      ]
     },
     "metadata": {},
     "output_type": "display_data"
    },
    {
     "data": {
      "application/javascript": [
       "\n",
       "(function(global) {\n",
       "  function now() {\n",
       "    return new Date();\n",
       "  }\n",
       "\n",
       "  var force = true;\n",
       "\n",
       "  if (typeof (window._bokeh_onload_callbacks) === \"undefined\" || force === true) {\n",
       "    window._bokeh_onload_callbacks = [];\n",
       "    window._bokeh_is_loading = undefined;\n",
       "  }\n",
       "\n",
       "\n",
       "  \n",
       "  if (typeof (window._bokeh_timeout) === \"undefined\" || force === true) {\n",
       "    window._bokeh_timeout = Date.now() + 5000;\n",
       "    window._bokeh_failed_load = false;\n",
       "  }\n",
       "\n",
       "  var NB_LOAD_WARNING = {'data': {'text/html':\n",
       "     \"<div style='background-color: #fdd'>\\n\"+\n",
       "     \"<p>\\n\"+\n",
       "     \"BokehJS does not appear to have successfully loaded. If loading BokehJS from CDN, this \\n\"+\n",
       "     \"may be due to a slow or bad network connection. Possible fixes:\\n\"+\n",
       "     \"</p>\\n\"+\n",
       "     \"<ul>\\n\"+\n",
       "     \"<li>re-rerun `output_notebook()` to attempt to load from CDN again, or</li>\\n\"+\n",
       "     \"<li>use INLINE resources instead, as so:</li>\\n\"+\n",
       "     \"</ul>\\n\"+\n",
       "     \"<code>\\n\"+\n",
       "     \"from bokeh.resources import INLINE\\n\"+\n",
       "     \"output_notebook(resources=INLINE)\\n\"+\n",
       "     \"</code>\\n\"+\n",
       "     \"</div>\"}};\n",
       "\n",
       "  function display_loaded() {\n",
       "    if (window.Bokeh !== undefined) {\n",
       "      document.getElementById(\"eb8695c7-12fe-4514-a8f0-6fc33a76f785\").textContent = \"BokehJS successfully loaded.\";\n",
       "    } else if (Date.now() < window._bokeh_timeout) {\n",
       "      setTimeout(display_loaded, 100)\n",
       "    }\n",
       "  }\n",
       "\n",
       "  function run_callbacks() {\n",
       "    window._bokeh_onload_callbacks.forEach(function(callback) { callback() });\n",
       "    delete window._bokeh_onload_callbacks\n",
       "    console.info(\"Bokeh: all callbacks have finished\");\n",
       "  }\n",
       "\n",
       "  function load_libs(js_urls, callback) {\n",
       "    window._bokeh_onload_callbacks.push(callback);\n",
       "    if (window._bokeh_is_loading > 0) {\n",
       "      console.log(\"Bokeh: BokehJS is being loaded, scheduling callback at\", now());\n",
       "      return null;\n",
       "    }\n",
       "    if (js_urls == null || js_urls.length === 0) {\n",
       "      run_callbacks();\n",
       "      return null;\n",
       "    }\n",
       "    console.log(\"Bokeh: BokehJS not loaded, scheduling load and callback at\", now());\n",
       "    window._bokeh_is_loading = js_urls.length;\n",
       "    for (var i = 0; i < js_urls.length; i++) {\n",
       "      var url = js_urls[i];\n",
       "      var s = document.createElement('script');\n",
       "      s.src = url;\n",
       "      s.async = false;\n",
       "      s.onreadystatechange = s.onload = function() {\n",
       "        window._bokeh_is_loading--;\n",
       "        if (window._bokeh_is_loading === 0) {\n",
       "          console.log(\"Bokeh: all BokehJS libraries loaded\");\n",
       "          run_callbacks()\n",
       "        }\n",
       "      };\n",
       "      s.onerror = function() {\n",
       "        console.warn(\"failed to load library \" + url);\n",
       "      };\n",
       "      console.log(\"Bokeh: injecting script tag for BokehJS library: \", url);\n",
       "      document.getElementsByTagName(\"head\")[0].appendChild(s);\n",
       "    }\n",
       "  };var element = document.getElementById(\"eb8695c7-12fe-4514-a8f0-6fc33a76f785\");\n",
       "  if (element == null) {\n",
       "    console.log(\"Bokeh: ERROR: autoload.js configured with elementid 'eb8695c7-12fe-4514-a8f0-6fc33a76f785' but no matching script tag was found. \")\n",
       "    return false;\n",
       "  }\n",
       "\n",
       "  var js_urls = [\"https://cdn.pydata.org/bokeh/release/bokeh-0.12.4.min.js\", \"https://cdn.pydata.org/bokeh/release/bokeh-widgets-0.12.4.min.js\"];\n",
       "\n",
       "  var inline_js = [\n",
       "    function(Bokeh) {\n",
       "      Bokeh.set_log_level(\"info\");\n",
       "    },\n",
       "    \n",
       "    function(Bokeh) {\n",
       "      \n",
       "      document.getElementById(\"eb8695c7-12fe-4514-a8f0-6fc33a76f785\").textContent = \"BokehJS is loading...\";\n",
       "    },\n",
       "    function(Bokeh) {\n",
       "      console.log(\"Bokeh: injecting CSS: https://cdn.pydata.org/bokeh/release/bokeh-0.12.4.min.css\");\n",
       "      Bokeh.embed.inject_css(\"https://cdn.pydata.org/bokeh/release/bokeh-0.12.4.min.css\");\n",
       "      console.log(\"Bokeh: injecting CSS: https://cdn.pydata.org/bokeh/release/bokeh-widgets-0.12.4.min.css\");\n",
       "      Bokeh.embed.inject_css(\"https://cdn.pydata.org/bokeh/release/bokeh-widgets-0.12.4.min.css\");\n",
       "    }\n",
       "  ];\n",
       "\n",
       "  function run_inline_js() {\n",
       "    \n",
       "    if ((window.Bokeh !== undefined) || (force === true)) {\n",
       "      for (var i = 0; i < inline_js.length; i++) {\n",
       "        inline_js[i](window.Bokeh);\n",
       "      }if (force === true) {\n",
       "        display_loaded();\n",
       "      }} else if (Date.now() < window._bokeh_timeout) {\n",
       "      setTimeout(run_inline_js, 100);\n",
       "    } else if (!window._bokeh_failed_load) {\n",
       "      console.log(\"Bokeh: BokehJS failed to load within specified timeout.\");\n",
       "      window._bokeh_failed_load = true;\n",
       "    } else if (force !== true) {\n",
       "      var cell = $(document.getElementById(\"eb8695c7-12fe-4514-a8f0-6fc33a76f785\")).parents('.cell').data().cell;\n",
       "      cell.output_area.append_execute_result(NB_LOAD_WARNING)\n",
       "    }\n",
       "\n",
       "  }\n",
       "\n",
       "  if (window._bokeh_is_loading === 0) {\n",
       "    console.log(\"Bokeh: BokehJS loaded, going straight to plotting\");\n",
       "    run_inline_js();\n",
       "  } else {\n",
       "    load_libs(js_urls, function() {\n",
       "      console.log(\"Bokeh: BokehJS plotting callback run at\", now());\n",
       "      run_inline_js();\n",
       "    });\n",
       "  }\n",
       "}(this));"
      ]
     },
     "metadata": {},
     "output_type": "display_data"
    }
   ],
   "source": [
    "# Load BokehJS.\n",
    "output_notebook()\n",
    "# Open plot in new tab.\n",
    "output_file(\"notebook_zero_crossing_in_time_domain.html\")"
   ]
  },
  {
   "cell_type": "code",
   "execution_count": 3,
   "metadata": {
    "collapsed": true,
    "deletable": true,
    "editable": true
   },
   "outputs": [],
   "source": [
    "# Settings.\n",
    "sound_file = 'in_data/Mdau_TE384.wav'\n",
    "#sound_file = 'in_data/Ppip_TE384.wav'\n",
    "#sound_file = 'in_data/myotis_plecotus_eptesicus_TE384.wav'\n",
    "\n",
    "cutoff_freq_hz = 18000\n",
    "zc_divratio = 4 # 2"
   ]
  },
  {
   "cell_type": "code",
   "execution_count": 4,
   "metadata": {
    "collapsed": true,
    "deletable": true,
    "editable": true
   },
   "outputs": [],
   "source": [
    "# Debug settings.\n",
    "play_sound = False #False\n",
    "debug = False"
   ]
  },
  {
   "cell_type": "code",
   "execution_count": 5,
   "metadata": {
    "collapsed": false,
    "deletable": true,
    "editable": true,
    "scrolled": true
   },
   "outputs": [
    {
     "name": "stdout",
     "output_type": "stream",
     "text": [
      "Sampling freq in file: 38400 Hz.\n",
      "398012 samples.\n"
     ]
    }
   ],
   "source": [
    "# Read the sound file.\n",
    "(sampling_freq, signal_int16) = wf.read(sound_file, 'rb')\n",
    "print('Sampling freq in file: ' + str(sampling_freq) + ' Hz.')\n",
    "print(str(len(signal_int16)) + ' samples.')\n",
    "if play_sound:\n",
    "    sounddevice.play(signal_int16, sampling_freq)\n",
    "    sounddevice.wait()"
   ]
  },
  {
   "cell_type": "code",
   "execution_count": 6,
   "metadata": {
    "collapsed": false,
    "deletable": true,
    "editable": true
   },
   "outputs": [
    {
     "name": "stdout",
     "output_type": "stream",
     "text": [
      "Sampling freq: 384000 Hz.\n"
     ]
    }
   ],
   "source": [
    "# Check if TE, Time Expansion.\n",
    "if '_TE' in sound_file:\n",
    "    sampling_freq *= 10\n",
    "print('Sampling freq: ' + str(sampling_freq) + ' Hz.')"
   ]
  },
  {
   "cell_type": "code",
   "execution_count": 7,
   "metadata": {
    "collapsed": true,
    "deletable": true,
    "editable": true
   },
   "outputs": [],
   "source": [
    "# Signed int16 to [-1.0, 1.0].\n",
    "signal = np.array(signal_int16) / 32768 "
   ]
  },
  {
   "cell_type": "code",
   "execution_count": 8,
   "metadata": {
    "collapsed": false,
    "deletable": true,
    "editable": true
   },
   "outputs": [
    {
     "name": "stdout",
     "output_type": "stream",
     "text": [
      "0.0303963383506\n"
     ]
    }
   ],
   "source": [
    "# Noise level. RMS, root-mean-square.\n",
    "noise_level = np.sqrt(np.mean(np.square(signal)))\n",
    "print(noise_level)"
   ]
  },
  {
   "cell_type": "code",
   "execution_count": 9,
   "metadata": {
    "collapsed": false,
    "deletable": true,
    "editable": true
   },
   "outputs": [],
   "source": [
    "# Filter. Butterworth.\n",
    "nyquist = 0.5 * sampling_freq\n",
    "low = cutoff_freq_hz / nyquist\n",
    "filter_order = 9\n",
    "b, a = scipy.signal.butter(filter_order, [low], btype='highpass')\n",
    "#signal= scipy.signal.lfilter(b, a, signal)\n",
    "signal= scipy.signal.filtfilt(b, a, signal)"
   ]
  },
  {
   "cell_type": "code",
   "execution_count": 10,
   "metadata": {
    "collapsed": false,
    "deletable": true,
    "editable": true
   },
   "outputs": [],
   "source": [
    "# Add hysteresis around zero to remove noise.\n",
    "signal[(signal < noise_level) & (signal > -noise_level)] = 0.0"
   ]
  },
  {
   "cell_type": "code",
   "execution_count": 11,
   "metadata": {
    "collapsed": true,
    "deletable": true,
    "editable": true
   },
   "outputs": [],
   "source": [
    "# Check where zero crossings may occur.\n",
    "sign_diff_array = np.diff(np.sign(signal))"
   ]
  },
  {
   "cell_type": "code",
   "execution_count": 12,
   "metadata": {
    "collapsed": false,
    "deletable": true,
    "editable": true
   },
   "outputs": [
    {
     "name": "stdout",
     "output_type": "stream",
     "text": [
      "2045\n"
     ]
    }
   ],
   "source": [
    "# Extract positive zero passings and interpolate where it occurs.\n",
    "index_array = []\n",
    "old_index = None\n",
    "for index, value in enumerate(sign_diff_array):\n",
    "    if value in [2., 1., 0.]:\n",
    "        # Check for raising signal level.\n",
    "        if value == 2.:\n",
    "            # From negative directly to positive. Calculate interpolated index.\n",
    "            x_adjust = signal[index] / (signal[index] - signal[index+1])\n",
    "            index_array.append(index + x_adjust)\n",
    "            old_index = None\n",
    "        elif (value == 1.) and (old_index is None):\n",
    "            # From negative to zero.\n",
    "            old_index = index\n",
    "        elif (value == 1.) and (old_index is not None):\n",
    "            # From zero to positive. Calculate interpolated index.\n",
    "            x_adjust = signal[old_index] / (signal[old_index] - signal[index+1])\n",
    "            index_array.append(old_index + x_adjust)\n",
    "            old_index = None      \n",
    "    else:\n",
    "        # Falling signal level.\n",
    "        old_index = None\n",
    "\n",
    "print(len(index_array))\n",
    "if debug:\n",
    "    print(index_array[:100])"
   ]
  },
  {
   "cell_type": "code",
   "execution_count": 13,
   "metadata": {
    "collapsed": false,
    "deletable": true,
    "editable": true
   },
   "outputs": [
    {
     "name": "stdout",
     "output_type": "stream",
     "text": [
      "512\n"
     ]
    }
   ],
   "source": [
    "zero_crossings = index_array[::zc_divratio]\n",
    "print(len(zero_crossings))"
   ]
  },
  {
   "cell_type": "code",
   "execution_count": 14,
   "metadata": {
    "collapsed": false,
    "deletable": true,
    "editable": true
   },
   "outputs": [
    {
     "name": "stdout",
     "output_type": "stream",
     "text": [
      "485\n"
     ]
    }
   ],
   "source": [
    "freqs = []\n",
    "times = []\n",
    "for index, zero_crossing in enumerate(zero_crossings[0:-1]):\n",
    "    freq = zero_crossings[index+1] - zero_crossings[index]\n",
    "    freq_hz = sampling_freq * zc_divratio / freq\n",
    "    if freq_hz >= cutoff_freq_hz:\n",
    "        freqs.append(freq_hz)\n",
    "        times.append(zero_crossing)\n",
    "print(len(freqs))"
   ]
  },
  {
   "cell_type": "code",
   "execution_count": 15,
   "metadata": {
    "collapsed": false,
    "deletable": true,
    "editable": true
   },
   "outputs": [],
   "source": [
    "# Prepare arrays for plotting.\n",
    "freq_array_khz = np.array(freqs) / 1000.0\n",
    "time_array_s = np.array(times) / sampling_freq\n",
    "if debug:\n",
    "    print(len(freq_array_khz))\n",
    "    print(freq_array_khz[:100])\n",
    "    print(time_array_s[:100])"
   ]
  },
  {
   "cell_type": "code",
   "execution_count": 16,
   "metadata": {
    "collapsed": false,
    "deletable": true,
    "editable": true,
    "scrolled": true
   },
   "outputs": [
    {
     "name": "stdout",
     "output_type": "stream",
     "text": [
      "Number of plotted values: 512, divratio: 4\n"
     ]
    },
    {
     "data": {
      "text/html": [
       "\n",
       "\n",
       "    <div class=\"bk-root\">\n",
       "        <div class=\"bk-plotdiv\" id=\"5eb3b52c-0818-4208-9037-82a574adc328\"></div>\n",
       "    </div>\n",
       "<script type=\"text/javascript\">\n",
       "  \n",
       "  (function(global) {\n",
       "    function now() {\n",
       "      return new Date();\n",
       "    }\n",
       "  \n",
       "    var force = false;\n",
       "  \n",
       "    if (typeof (window._bokeh_onload_callbacks) === \"undefined\" || force === true) {\n",
       "      window._bokeh_onload_callbacks = [];\n",
       "      window._bokeh_is_loading = undefined;\n",
       "    }\n",
       "  \n",
       "  \n",
       "    \n",
       "    if (typeof (window._bokeh_timeout) === \"undefined\" || force === true) {\n",
       "      window._bokeh_timeout = Date.now() + 0;\n",
       "      window._bokeh_failed_load = false;\n",
       "    }\n",
       "  \n",
       "    var NB_LOAD_WARNING = {'data': {'text/html':\n",
       "       \"<div style='background-color: #fdd'>\\n\"+\n",
       "       \"<p>\\n\"+\n",
       "       \"BokehJS does not appear to have successfully loaded. If loading BokehJS from CDN, this \\n\"+\n",
       "       \"may be due to a slow or bad network connection. Possible fixes:\\n\"+\n",
       "       \"</p>\\n\"+\n",
       "       \"<ul>\\n\"+\n",
       "       \"<li>re-rerun `output_notebook()` to attempt to load from CDN again, or</li>\\n\"+\n",
       "       \"<li>use INLINE resources instead, as so:</li>\\n\"+\n",
       "       \"</ul>\\n\"+\n",
       "       \"<code>\\n\"+\n",
       "       \"from bokeh.resources import INLINE\\n\"+\n",
       "       \"output_notebook(resources=INLINE)\\n\"+\n",
       "       \"</code>\\n\"+\n",
       "       \"</div>\"}};\n",
       "  \n",
       "    function display_loaded() {\n",
       "      if (window.Bokeh !== undefined) {\n",
       "        document.getElementById(\"5eb3b52c-0818-4208-9037-82a574adc328\").textContent = \"BokehJS successfully loaded.\";\n",
       "      } else if (Date.now() < window._bokeh_timeout) {\n",
       "        setTimeout(display_loaded, 100)\n",
       "      }\n",
       "    }\n",
       "  \n",
       "    function run_callbacks() {\n",
       "      window._bokeh_onload_callbacks.forEach(function(callback) { callback() });\n",
       "      delete window._bokeh_onload_callbacks\n",
       "      console.info(\"Bokeh: all callbacks have finished\");\n",
       "    }\n",
       "  \n",
       "    function load_libs(js_urls, callback) {\n",
       "      window._bokeh_onload_callbacks.push(callback);\n",
       "      if (window._bokeh_is_loading > 0) {\n",
       "        console.log(\"Bokeh: BokehJS is being loaded, scheduling callback at\", now());\n",
       "        return null;\n",
       "      }\n",
       "      if (js_urls == null || js_urls.length === 0) {\n",
       "        run_callbacks();\n",
       "        return null;\n",
       "      }\n",
       "      console.log(\"Bokeh: BokehJS not loaded, scheduling load and callback at\", now());\n",
       "      window._bokeh_is_loading = js_urls.length;\n",
       "      for (var i = 0; i < js_urls.length; i++) {\n",
       "        var url = js_urls[i];\n",
       "        var s = document.createElement('script');\n",
       "        s.src = url;\n",
       "        s.async = false;\n",
       "        s.onreadystatechange = s.onload = function() {\n",
       "          window._bokeh_is_loading--;\n",
       "          if (window._bokeh_is_loading === 0) {\n",
       "            console.log(\"Bokeh: all BokehJS libraries loaded\");\n",
       "            run_callbacks()\n",
       "          }\n",
       "        };\n",
       "        s.onerror = function() {\n",
       "          console.warn(\"failed to load library \" + url);\n",
       "        };\n",
       "        console.log(\"Bokeh: injecting script tag for BokehJS library: \", url);\n",
       "        document.getElementsByTagName(\"head\")[0].appendChild(s);\n",
       "      }\n",
       "    };var element = document.getElementById(\"5eb3b52c-0818-4208-9037-82a574adc328\");\n",
       "    if (element == null) {\n",
       "      console.log(\"Bokeh: ERROR: autoload.js configured with elementid '5eb3b52c-0818-4208-9037-82a574adc328' but no matching script tag was found. \")\n",
       "      return false;\n",
       "    }\n",
       "  \n",
       "    var js_urls = [];\n",
       "  \n",
       "    var inline_js = [\n",
       "      function(Bokeh) {\n",
       "        (function() {\n",
       "          var fn = function() {\n",
       "            var docs_json = {\"e4309901-650a-4ebe-89ca-9ac78238e785\":{\"roots\":{\"references\":[{\"attributes\":{\"callback\":null,\"column_names\":[\"x\",\"y\"],\"data\":{\"x\":{\"__ndarray__\":\"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\",\"dtype\":\"float64\",\"shape\":[485]},\"y\":{\"__ndarray__\":\"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\",\"dtype\":\"float64\",\"shape\":[485]}}},\"id\":\"7db09bdc-2a4e-4a89-96b6-e757971001b5\",\"type\":\"ColumnDataSource\"},{\"attributes\":{\"axis_label\":\"ZC frequency (kHz)\",\"formatter\":{\"id\":\"7f4c649f-09cd-404c-9315-c303868e532e\",\"type\":\"BasicTickFormatter\"},\"plot\":{\"id\":\"b04a87bf-1435-4efd-b2ea-9619435cc1a3\",\"subtype\":\"Figure\",\"type\":\"Plot\"},\"ticker\":{\"id\":\"10995aed-4db8-40af-9390-3cbbfa157abc\",\"type\":\"BasicTicker\"}},\"id\":\"8d7729c2-3003-4df2-8b76-419f7e3adae9\",\"type\":\"LinearAxis\"},{\"attributes\":{\"plot\":{\"id\":\"b04a87bf-1435-4efd-b2ea-9619435cc1a3\",\"subtype\":\"Figure\",\"type\":\"Plot\"}},\"id\":\"670b7517-7564-434b-a66e-934e2f64408b\",\"type\":\"RedoTool\"},{\"attributes\":{\"active_drag\":\"auto\",\"active_scroll\":\"auto\",\"active_tap\":\"auto\",\"tools\":[{\"id\":\"4b5a2e0c-d8e3-4b81-91d7-addfd013ee83\",\"type\":\"HoverTool\"},{\"id\":\"75ad2c01-3853-4ea6-8f81-f0eced445431\",\"type\":\"WheelZoomTool\"},{\"id\":\"8e173dfa-d15c-48c0-8e2b-a9f26b4955ae\",\"type\":\"BoxZoomTool\"},{\"id\":\"4cbab9c5-7542-487b-a5b0-08970866a4c7\",\"type\":\"CrosshairTool\"},{\"id\":\"50a406aa-53b4-4485-82ea-13365112e68f\",\"type\":\"UndoTool\"},{\"id\":\"670b7517-7564-434b-a66e-934e2f64408b\",\"type\":\"RedoTool\"},{\"id\":\"5f44e88f-0765-45b1-9257-9bcc009e04a8\",\"type\":\"ResetTool\"},{\"id\":\"a6810e9b-eea2-41b0-b25b-891584bff7fe\",\"type\":\"ResizeTool\"},{\"id\":\"a7ecb58d-bae1-434b-9ac8-e67a6301d5d8\",\"type\":\"PanTool\"},{\"id\":\"23b61748-db1f-4190-bc82-87eb52f15a3e\",\"type\":\"SaveTool\"}]},\"id\":\"cb572d3f-8207-4e0c-9533-bae47333c642\",\"type\":\"Toolbar\"},{\"attributes\":{\"plot\":{\"id\":\"b04a87bf-1435-4efd-b2ea-9619435cc1a3\",\"subtype\":\"Figure\",\"type\":\"Plot\"}},\"id\":\"5f44e88f-0765-45b1-9257-9bcc009e04a8\",\"type\":\"ResetTool\"},{\"attributes\":{\"data_source\":{\"id\":\"7db09bdc-2a4e-4a89-96b6-e757971001b5\",\"type\":\"ColumnDataSource\"},\"glyph\":{\"id\":\"d3182971-d384-4e70-aa23-849f32e9de52\",\"type\":\"Circle\"},\"hover_glyph\":null,\"nonselection_glyph\":{\"id\":\"6c6a86b1-d5e8-4fec-b936-1428307acc6b\",\"type\":\"Circle\"},\"selection_glyph\":null},\"id\":\"bb13a3cc-eb60-438c-9024-4aa701bf4556\",\"type\":\"GlyphRenderer\"},{\"attributes\":{\"plot\":{\"id\":\"b04a87bf-1435-4efd-b2ea-9619435cc1a3\",\"subtype\":\"Figure\",\"type\":\"Plot\"}},\"id\":\"a6810e9b-eea2-41b0-b25b-891584bff7fe\",\"type\":\"ResizeTool\"},{\"attributes\":{\"callback\":null,\"plot\":{\"id\":\"b04a87bf-1435-4efd-b2ea-9619435cc1a3\",\"subtype\":\"Figure\",\"type\":\"Plot\"},\"point_policy\":\"follow_mouse\",\"tooltips\":[[\"Time (s)\",\"@x\"],[\"Frequency (kHz)\",\"@y\"]]},\"id\":\"4b5a2e0c-d8e3-4b81-91d7-addfd013ee83\",\"type\":\"HoverTool\"},{\"attributes\":{},\"id\":\"12748626-368a-4fce-bb92-2e8837d64a05\",\"type\":\"BasicTickFormatter\"},{\"attributes\":{\"dimension\":1,\"plot\":{\"id\":\"b04a87bf-1435-4efd-b2ea-9619435cc1a3\",\"subtype\":\"Figure\",\"type\":\"Plot\"},\"ticker\":{\"id\":\"10995aed-4db8-40af-9390-3cbbfa157abc\",\"type\":\"BasicTicker\"}},\"id\":\"132af151-9532-4b53-a4d9-11277fa925ba\",\"type\":\"Grid\"},{\"attributes\":{\"bounds\":[0,1.0364895833333334],\"callback\":null,\"end\":1.0364895833333334},\"id\":\"99ab5e8d-9201-478f-b721-6ffd8a44e310\",\"type\":\"Range1d\"},{\"attributes\":{},\"id\":\"25f4e733-4fcb-4696-807b-2de20b4b0bfb\",\"type\":\"BasicTicker\"},{\"attributes\":{\"plot\":{\"id\":\"b04a87bf-1435-4efd-b2ea-9619435cc1a3\",\"subtype\":\"Figure\",\"type\":\"Plot\"},\"ticker\":{\"id\":\"25f4e733-4fcb-4696-807b-2de20b4b0bfb\",\"type\":\"BasicTicker\"}},\"id\":\"9cd001a4-17a5-415f-a63c-c38e42c5a971\",\"type\":\"Grid\"},{\"attributes\":{\"plot\":{\"id\":\"b04a87bf-1435-4efd-b2ea-9619435cc1a3\",\"subtype\":\"Figure\",\"type\":\"Plot\"}},\"id\":\"23b61748-db1f-4190-bc82-87eb52f15a3e\",\"type\":\"SaveTool\"},{\"attributes\":{\"plot\":{\"id\":\"b04a87bf-1435-4efd-b2ea-9619435cc1a3\",\"subtype\":\"Figure\",\"type\":\"Plot\"}},\"id\":\"50a406aa-53b4-4485-82ea-13365112e68f\",\"type\":\"UndoTool\"},{\"attributes\":{\"below\":[{\"id\":\"505a8d71-21dd-4728-85bc-04926efd3ddf\",\"type\":\"LinearAxis\"}],\"left\":[{\"id\":\"8d7729c2-3003-4df2-8b76-419f7e3adae9\",\"type\":\"LinearAxis\"}],\"plot_width\":900,\"renderers\":[{\"id\":\"505a8d71-21dd-4728-85bc-04926efd3ddf\",\"type\":\"LinearAxis\"},{\"id\":\"9cd001a4-17a5-415f-a63c-c38e42c5a971\",\"type\":\"Grid\"},{\"id\":\"8d7729c2-3003-4df2-8b76-419f7e3adae9\",\"type\":\"LinearAxis\"},{\"id\":\"132af151-9532-4b53-a4d9-11277fa925ba\",\"type\":\"Grid\"},{\"id\":\"6e2538cc-74b3-4142-a5fb-5df372580a5b\",\"type\":\"BoxAnnotation\"},{\"id\":\"bb13a3cc-eb60-438c-9024-4aa701bf4556\",\"type\":\"GlyphRenderer\"}],\"title\":{\"id\":\"c7e6e716-c27a-4f4c-8b8d-191de42222e4\",\"type\":\"Title\"},\"tool_events\":{\"id\":\"2cc31a63-0c3d-49d5-bb91-2998ad51f7cb\",\"type\":\"ToolEvents\"},\"toolbar\":{\"id\":\"cb572d3f-8207-4e0c-9533-bae47333c642\",\"type\":\"Toolbar\"},\"toolbar_location\":\"above\",\"x_range\":{\"id\":\"99ab5e8d-9201-478f-b721-6ffd8a44e310\",\"type\":\"Range1d\"},\"y_range\":{\"id\":\"af098579-f7c3-45c3-a08d-12369a79abbe\",\"type\":\"Range1d\"}},\"id\":\"b04a87bf-1435-4efd-b2ea-9619435cc1a3\",\"subtype\":\"Figure\",\"type\":\"Plot\"},{\"attributes\":{},\"id\":\"7f4c649f-09cd-404c-9315-c303868e532e\",\"type\":\"BasicTickFormatter\"},{\"attributes\":{},\"id\":\"2cc31a63-0c3d-49d5-bb91-2998ad51f7cb\",\"type\":\"ToolEvents\"},{\"attributes\":{\"axis_label\":\"Time (s)\",\"formatter\":{\"id\":\"12748626-368a-4fce-bb92-2e8837d64a05\",\"type\":\"BasicTickFormatter\"},\"plot\":{\"id\":\"b04a87bf-1435-4efd-b2ea-9619435cc1a3\",\"subtype\":\"Figure\",\"type\":\"Plot\"},\"ticker\":{\"id\":\"25f4e733-4fcb-4696-807b-2de20b4b0bfb\",\"type\":\"BasicTicker\"}},\"id\":\"505a8d71-21dd-4728-85bc-04926efd3ddf\",\"type\":\"LinearAxis\"},{\"attributes\":{\"bounds\":[0,192.0],\"callback\":null,\"end\":192.0},\"id\":\"af098579-f7c3-45c3-a08d-12369a79abbe\",\"type\":\"Range1d\"},{\"attributes\":{\"overlay\":{\"id\":\"6e2538cc-74b3-4142-a5fb-5df372580a5b\",\"type\":\"BoxAnnotation\"},\"plot\":{\"id\":\"b04a87bf-1435-4efd-b2ea-9619435cc1a3\",\"subtype\":\"Figure\",\"type\":\"Plot\"}},\"id\":\"8e173dfa-d15c-48c0-8e2b-a9f26b4955ae\",\"type\":\"BoxZoomTool\"},{\"attributes\":{\"plot\":{\"id\":\"b04a87bf-1435-4efd-b2ea-9619435cc1a3\",\"subtype\":\"Figure\",\"type\":\"Plot\"}},\"id\":\"4cbab9c5-7542-487b-a5b0-08970866a4c7\",\"type\":\"CrosshairTool\"},{\"attributes\":{},\"id\":\"10995aed-4db8-40af-9390-3cbbfa157abc\",\"type\":\"BasicTicker\"},{\"attributes\":{\"bottom_units\":\"screen\",\"fill_alpha\":{\"value\":0.5},\"fill_color\":{\"value\":\"lightgrey\"},\"left_units\":\"screen\",\"level\":\"overlay\",\"line_alpha\":{\"value\":1.0},\"line_color\":{\"value\":\"black\"},\"line_dash\":[4,4],\"line_width\":{\"value\":2},\"plot\":null,\"render_mode\":\"css\",\"right_units\":\"screen\",\"top_units\":\"screen\"},\"id\":\"6e2538cc-74b3-4142-a5fb-5df372580a5b\",\"type\":\"BoxAnnotation\"},{\"attributes\":{\"fill_alpha\":{\"value\":0.1},\"fill_color\":{\"value\":\"#1f77b4\"},\"line_alpha\":{\"value\":0.1},\"line_color\":{\"value\":\"#1f77b4\"},\"size\":{\"units\":\"screen\",\"value\":2},\"x\":{\"field\":\"x\"},\"y\":{\"field\":\"y\"}},\"id\":\"6c6a86b1-d5e8-4fec-b936-1428307acc6b\",\"type\":\"Circle\"},{\"attributes\":{\"plot\":{\"id\":\"b04a87bf-1435-4efd-b2ea-9619435cc1a3\",\"subtype\":\"Figure\",\"type\":\"Plot\"}},\"id\":\"75ad2c01-3853-4ea6-8f81-f0eced445431\",\"type\":\"WheelZoomTool\"},{\"attributes\":{\"plot\":{\"id\":\"b04a87bf-1435-4efd-b2ea-9619435cc1a3\",\"subtype\":\"Figure\",\"type\":\"Plot\"}},\"id\":\"a7ecb58d-bae1-434b-9ac8-e67a6301d5d8\",\"type\":\"PanTool\"},{\"attributes\":{\"plot\":null,\"text\":\"in_data/Mdau_TE384.wav\"},\"id\":\"c7e6e716-c27a-4f4c-8b8d-191de42222e4\",\"type\":\"Title\"},{\"attributes\":{\"fill_alpha\":{\"value\":0.5},\"fill_color\":{\"value\":\"navy\"},\"line_alpha\":{\"value\":0.5},\"line_color\":{\"value\":\"navy\"},\"size\":{\"units\":\"screen\",\"value\":2},\"x\":{\"field\":\"x\"},\"y\":{\"field\":\"y\"}},\"id\":\"d3182971-d384-4e70-aa23-849f32e9de52\",\"type\":\"Circle\"}],\"root_ids\":[\"b04a87bf-1435-4efd-b2ea-9619435cc1a3\"]},\"title\":\"Bokeh Application\",\"version\":\"0.12.4\"}};\n",
       "            var render_items = [{\"docid\":\"e4309901-650a-4ebe-89ca-9ac78238e785\",\"elementid\":\"5eb3b52c-0818-4208-9037-82a574adc328\",\"modelid\":\"b04a87bf-1435-4efd-b2ea-9619435cc1a3\"}];\n",
       "            \n",
       "            Bokeh.embed.embed_items(docs_json, render_items);\n",
       "          };\n",
       "          if (document.readyState != \"loading\") fn();\n",
       "          else document.addEventListener(\"DOMContentLoaded\", fn);\n",
       "        })();\n",
       "      },\n",
       "      function(Bokeh) {\n",
       "      }\n",
       "    ];\n",
       "  \n",
       "    function run_inline_js() {\n",
       "      \n",
       "      if ((window.Bokeh !== undefined) || (force === true)) {\n",
       "        for (var i = 0; i < inline_js.length; i++) {\n",
       "          inline_js[i](window.Bokeh);\n",
       "        }if (force === true) {\n",
       "          display_loaded();\n",
       "        }} else if (Date.now() < window._bokeh_timeout) {\n",
       "        setTimeout(run_inline_js, 100);\n",
       "      } else if (!window._bokeh_failed_load) {\n",
       "        console.log(\"Bokeh: BokehJS failed to load within specified timeout.\");\n",
       "        window._bokeh_failed_load = true;\n",
       "      } else if (force !== true) {\n",
       "        var cell = $(document.getElementById(\"5eb3b52c-0818-4208-9037-82a574adc328\")).parents('.cell').data().cell;\n",
       "        cell.output_area.append_execute_result(NB_LOAD_WARNING)\n",
       "      }\n",
       "  \n",
       "    }\n",
       "  \n",
       "    if (window._bokeh_is_loading === 0) {\n",
       "      console.log(\"Bokeh: BokehJS loaded, going straight to plotting\");\n",
       "      run_inline_js();\n",
       "    } else {\n",
       "      load_libs(js_urls, function() {\n",
       "        console.log(\"Bokeh: BokehJS plotting callback run at\", now());\n",
       "        run_inline_js();\n",
       "      });\n",
       "    }\n",
       "  }(this));\n",
       "</script>"
      ]
     },
     "metadata": {},
     "output_type": "display_data"
    }
   ],
   "source": [
    "# Plotting using Bokeh.\n",
    "TOOLS=\"hover,wheel_zoom,box_zoom,crosshair,undo,redo,reset,resize,pan,previewsave\"\n",
    "# TOOLS=\"undo,redo,resize,crosshair,pan,wheel_zoom,box_zoom,reset,tap,previewsave,box_select,poly_select,lasso_select\"\n",
    "p = figure(tools=TOOLS, toolbar_location=\"above\")\n",
    "p.title.text = sound_file\n",
    "p.plot_width = 900 \n",
    "p.plot_height = 600\n",
    "p.circle(time_array_s, freq_array_khz, size=2, color=\"navy\", alpha=0.5)\n",
    "\n",
    "x_len = len(signal_int16) / sampling_freq\n",
    "y_max = sampling_freq / 1000 / 2\n",
    "\n",
    "p.xaxis.axis_label=\"Time (s)\"\n",
    "p.yaxis.axis_label=\"ZC frequency (kHz)\"\n",
    "p.x_range = Range1d(0, x_len, bounds=(0, x_len))\n",
    "p.y_range = Range1d(0, y_max, bounds=(0, y_max))\n",
    "\n",
    "hover = p.select_one(HoverTool)\n",
    "hover.point_policy = \"follow_mouse\"\n",
    "hover.tooltips = [\n",
    "         (\"Time (s)\", \"@x\"),\n",
    "         (\"Frequency (kHz)\", \"@y\"),\n",
    "    ]\n",
    "\n",
    "print('Number of plotted values: ' + str(len(zero_crossings)) + ', divratio: ' + str(zc_divratio))\n",
    "\n",
    "show(p)"
   ]
  },
  {
   "cell_type": "code",
   "execution_count": null,
   "metadata": {
    "collapsed": true,
    "deletable": true,
    "editable": true
   },
   "outputs": [],
   "source": []
  },
  {
   "cell_type": "code",
   "execution_count": null,
   "metadata": {
    "collapsed": true,
    "deletable": true,
    "editable": true
   },
   "outputs": [],
   "source": []
  },
  {
   "cell_type": "code",
   "execution_count": null,
   "metadata": {
    "collapsed": true,
    "deletable": true,
    "editable": true
   },
   "outputs": [],
   "source": []
  }
 ],
 "metadata": {
  "kernelspec": {
   "display_name": "Python 3",
   "language": "python",
   "name": "python3"
  },
  "language_info": {
   "codemirror_mode": {
    "name": "ipython",
    "version": 3
   },
   "file_extension": ".py",
   "mimetype": "text/x-python",
   "name": "python",
   "nbconvert_exporter": "python",
   "pygments_lexer": "ipython3",
   "version": "3.5.2"
  }
 },
 "nbformat": 4,
 "nbformat_minor": 2
}
