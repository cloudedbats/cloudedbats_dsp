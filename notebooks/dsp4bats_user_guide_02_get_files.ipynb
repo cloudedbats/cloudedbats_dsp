{
 "cells": [
  {
   "cell_type": "markdown",
   "metadata": {
    "collapsed": true
   },
   "source": [
    "# dsp4bats - user guide - 02 - get_files\n",
    "\n",
    "This notebook is a part of the CloudedBats software project (http://cloudedbats.org).\n",
    "\n",
    "Source code for dsp4bats: https://github.com/cloudedbats/cloudedbats_dsp"
   ]
  },
  {
   "cell_type": "markdown",
   "metadata": {
    "collapsed": true
   },
   "source": [
    "### Get a list of sound files and availabe metadata \n",
    "\n",
    "Sound files collected by using the CloudedBats WURB contains some useful information in\n",
    "the filename. By using the SoundFileManager class it is possible to easily extract this\n",
    "metadata and use it in a Pandas DataFrame.\n",
    "\n",
    "The example code below shows how to find all wave files in a directory and to use the \n",
    "metadata to plot the recording positions on a map."
   ]
  },
  {
   "cell_type": "code",
   "execution_count": 1,
   "metadata": {},
   "outputs": [],
   "source": [
    "# Add path from jupyter to the dsp4bats library.\n",
    "import sys\n",
    "path = \"..\"\n",
    "sys.path.append(path)"
   ]
  },
  {
   "cell_type": "code",
   "execution_count": 2,
   "metadata": {},
   "outputs": [],
   "source": [
    "# Import python modules.\n",
    "%matplotlib inline\n",
    "import pandas as pd\n",
    "import numpy as np\n",
    "import dsp4bats"
   ]
  },
  {
   "cell_type": "code",
   "execution_count": 3,
   "metadata": {},
   "outputs": [
    {
     "data": {
      "text/plain": [
       "''"
      ]
     },
     "execution_count": 3,
     "metadata": {},
     "output_type": "execute_result"
    }
   ],
   "source": [
    "# tkinter is used for open file/dir dialogs.\n",
    "import tkinter\n",
    "import tkinter.filedialog\n",
    "root = tkinter.Tk()\n",
    "root.withdraw()\n",
    "#file_path = filedialog.askopenfilename()\n",
    "#dir_path = tkinter.filedialog.askdirectory()"
   ]
  },
  {
   "cell_type": "code",
   "execution_count": 4,
   "metadata": {},
   "outputs": [],
   "source": [
    "# Create a file manager object.\n",
    "file_mgr = dsp4bats.WurbFileUtils()"
   ]
  },
  {
   "cell_type": "code",
   "execution_count": 5,
   "metadata": {},
   "outputs": [],
   "source": [
    "# Use Tkinter to select a directory and get all wave files found.\n",
    "dir_path = tkinter.filedialog.askdirectory()\n",
    "file_mgr.find_sound_files(dir_path=dir_path, recursive=True)"
   ]
  },
  {
   "cell_type": "code",
   "execution_count": 6,
   "metadata": {},
   "outputs": [
    {
     "data": {
      "text/html": [
       "<div>\n",
       "<style scoped>\n",
       "    .dataframe tbody tr th:only-of-type {\n",
       "        vertical-align: middle;\n",
       "    }\n",
       "\n",
       "    .dataframe tbody tr th {\n",
       "        vertical-align: top;\n",
       "    }\n",
       "\n",
       "    .dataframe thead th {\n",
       "        text-align: right;\n",
       "    }\n",
       "</style>\n",
       "<table border=\"1\" class=\"dataframe\">\n",
       "  <thead>\n",
       "    <tr style=\"text-align: right;\">\n",
       "      <th></th>\n",
       "      <th>detector_id</th>\n",
       "      <th>datetime</th>\n",
       "      <th>datetime_str</th>\n",
       "      <th>latitude_dd</th>\n",
       "      <th>longitude_dd</th>\n",
       "      <th>latlong_str</th>\n",
       "      <th>rec_type</th>\n",
       "      <th>frame_rate_hz</th>\n",
       "      <th>file_frame_rate_hz</th>\n",
       "      <th>is_te</th>\n",
       "      <th>comments</th>\n",
       "      <th>dir_path</th>\n",
       "      <th>file_name</th>\n",
       "      <th>file_path</th>\n",
       "      <th>file_stem</th>\n",
       "      <th>abs_file_path</th>\n",
       "    </tr>\n",
       "  </thead>\n",
       "  <tbody>\n",
       "    <tr>\n",
       "      <th>0</th>\n",
       "      <td>WurbAA03</td>\n",
       "      <td>2017-08-05 23:18:07+02:00</td>\n",
       "      <td>20170805T231807+0200</td>\n",
       "      <td>43.2619</td>\n",
       "      <td>-1.3506</td>\n",
       "      <td>N43.2619W1.3506</td>\n",
       "      <td>TE384</td>\n",
       "      <td>384000</td>\n",
       "      <td>38400</td>\n",
       "      <td>True</td>\n",
       "      <td></td>\n",
       "      <td>/home/arnold/Desktop/bats_bidarrai</td>\n",
       "      <td>WurbAA03_20170805T231807+0200_N43.2619W1.3506_...</td>\n",
       "      <td>/home/arnold/Desktop/bats_bidarrai/WurbAA03_20...</td>\n",
       "      <td>WurbAA03_20170805T231807+0200_N43.2619W1.3506_...</td>\n",
       "      <td>/home/arnold/Desktop/bats_bidarrai/WurbAA03_20...</td>\n",
       "    </tr>\n",
       "  </tbody>\n",
       "</table>\n",
       "</div>"
      ],
      "text/plain": [
       "  detector_id                  datetime          datetime_str  latitude_dd  \\\n",
       "0    WurbAA03 2017-08-05 23:18:07+02:00  20170805T231807+0200      43.2619   \n",
       "\n",
       "   longitude_dd      latlong_str rec_type frame_rate_hz file_frame_rate_hz  \\\n",
       "0       -1.3506  N43.2619W1.3506    TE384        384000              38400   \n",
       "\n",
       "   is_te comments                            dir_path  \\\n",
       "0   True           /home/arnold/Desktop/bats_bidarrai   \n",
       "\n",
       "                                           file_name  \\\n",
       "0  WurbAA03_20170805T231807+0200_N43.2619W1.3506_...   \n",
       "\n",
       "                                           file_path  \\\n",
       "0  /home/arnold/Desktop/bats_bidarrai/WurbAA03_20...   \n",
       "\n",
       "                                           file_stem  \\\n",
       "0  WurbAA03_20170805T231807+0200_N43.2619W1.3506_...   \n",
       "\n",
       "                                       abs_file_path  \n",
       "0  /home/arnold/Desktop/bats_bidarrai/WurbAA03_20...  "
      ]
     },
     "execution_count": 6,
     "metadata": {},
     "output_type": "execute_result"
    }
   ],
   "source": [
    "# Get and check the dataframe content.\n",
    "files_df = file_mgr.get_dataframe()\n",
    "files_df"
   ]
  },
  {
   "cell_type": "code",
   "execution_count": 7,
   "metadata": {},
   "outputs": [],
   "source": [
    "# Group by positions and count files at each position.\n",
    "distinct_df = pd.DataFrame({'file_count' : files_df.groupby( [ 'latlong_str', 'latitude_dd', 'longitude_dd'] ).size()}).reset_index()"
   ]
  },
  {
   "cell_type": "code",
   "execution_count": 8,
   "metadata": {},
   "outputs": [
    {
     "data": {
      "text/html": [
       "<div>\n",
       "<style scoped>\n",
       "    .dataframe tbody tr th:only-of-type {\n",
       "        vertical-align: middle;\n",
       "    }\n",
       "\n",
       "    .dataframe tbody tr th {\n",
       "        vertical-align: top;\n",
       "    }\n",
       "\n",
       "    .dataframe thead th {\n",
       "        text-align: right;\n",
       "    }\n",
       "</style>\n",
       "<table border=\"1\" class=\"dataframe\">\n",
       "  <thead>\n",
       "    <tr style=\"text-align: right;\">\n",
       "      <th></th>\n",
       "      <th>latlong_str</th>\n",
       "      <th>latitude_dd</th>\n",
       "      <th>longitude_dd</th>\n",
       "      <th>file_count</th>\n",
       "      <th>description</th>\n",
       "    </tr>\n",
       "  </thead>\n",
       "  <tbody>\n",
       "    <tr>\n",
       "      <th>0</th>\n",
       "      <td>N43.2619W1.3506</td>\n",
       "      <td>43.2619</td>\n",
       "      <td>-1.3506</td>\n",
       "      <td>1</td>\n",
       "      <td>Pos: N43.2619W1.3506 Count: 1</td>\n",
       "    </tr>\n",
       "  </tbody>\n",
       "</table>\n",
       "</div>"
      ],
      "text/plain": [
       "       latlong_str  latitude_dd  longitude_dd  file_count  \\\n",
       "0  N43.2619W1.3506      43.2619       -1.3506           1   \n",
       "\n",
       "                     description  \n",
       "0  Pos: N43.2619W1.3506 Count: 1  "
      ]
     },
     "execution_count": 8,
     "metadata": {},
     "output_type": "execute_result"
    }
   ],
   "source": [
    "# Add a column for description to be shown when hovering over point in map.\n",
    "distinct_df['description'] = 'Pos: ' + distinct_df['latlong_str'] + ' Count: ' + distinct_df['file_count'].astype(str)\n",
    "distinct_df"
   ]
  },
  {
   "cell_type": "code",
   "execution_count": null,
   "metadata": {},
   "outputs": [],
   "source": []
  },
  {
   "cell_type": "code",
   "execution_count": 9,
   "metadata": {
    "scrolled": true
   },
   "outputs": [],
   "source": [
    "# Plot on a map. There are many alternatives to do this\n",
    "# but folium was easy to use for this example.\n",
    "# Folium install: sudo pip3 install folium\n",
    "import folium\n",
    "\n",
    "# Use the mean value as center for the map.\n",
    "center_lat = distinct_df.latitude_dd.mean()\n",
    "center_long = distinct_df.longitude_dd.mean()\n",
    "# Create map object.\n",
    "map_osm = folium.Map(location=[center_lat, center_long], zoom_start=10)\n",
    "# Loop over positions an create markers.\n",
    "for long, lat, desc in zip(distinct_df.longitude_dd.values,\n",
    "                         distinct_df.latitude_dd.values,\n",
    "                         distinct_df.description.values):\n",
    "    # The description column is used for popup messages.\n",
    "    marker = folium.Marker([lat, long], popup=desc).add_to(map_osm)\n",
    "\n",
    "# Display in notebook.\n",
    "#map_osm\n",
    "\n",
    "# Write to html file.\n",
    "map_osm.save('data_out/map_folium.html')"
   ]
  },
  {
   "cell_type": "code",
   "execution_count": null,
   "metadata": {},
   "outputs": [],
   "source": []
  }
 ],
 "metadata": {
  "kernelspec": {
   "display_name": "Python 3",
   "language": "python",
   "name": "python3"
  },
  "language_info": {
   "codemirror_mode": {
    "name": "ipython",
    "version": 3
   },
   "file_extension": ".py",
   "mimetype": "text/x-python",
   "name": "python",
   "nbconvert_exporter": "python",
   "pygments_lexer": "ipython3",
   "version": "3.5.2"
  }
 },
 "nbformat": 4,
 "nbformat_minor": 2
}
