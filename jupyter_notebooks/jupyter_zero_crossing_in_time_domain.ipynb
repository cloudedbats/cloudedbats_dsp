{
 "cells": [
  {
   "cell_type": "markdown",
   "metadata": {
    "collapsed": true,
    "deletable": true,
    "editable": true
   },
   "source": [
    "# Wave (.wav) to Zero Crossing.\n",
    "\n",
    "This is an attempt to produce syntetizised ZC, Zero Crossing, from a FS, Full Scan, files. All parts are calculated in the time domain to mimic true ZC, FFT not used.\n",
    "\n",
    "Current status: Seems to work well for \"easy files\", but not for mixed and low amplitude recordings. I don't know why..."
   ]
  },
  {
   "cell_type": "code",
   "execution_count": 1,
   "metadata": {
    "collapsed": true,
    "deletable": true,
    "editable": true
   },
   "outputs": [],
   "source": [
    "import numpy as np\n",
    "import scipy.io.wavfile as wf\n",
    "import scipy.signal\n",
    "import sounddevice\n",
    "from bokeh.io import output_notebook\n",
    "from bokeh.plotting import output_file, show, figure\n",
    "from bokeh.charts import Scatter\n",
    "from bokeh.models import Range1d, HoverTool"
   ]
  },
  {
   "cell_type": "code",
   "execution_count": 2,
   "metadata": {
    "collapsed": false,
    "deletable": true,
    "editable": true
   },
   "outputs": [
    {
     "data": {
      "text/html": [
       "\n",
       "    <div class=\"bk-root\">\n",
       "        <a href=\"http://bokeh.pydata.org\" target=\"_blank\" class=\"bk-logo bk-logo-small bk-logo-notebook\"></a>\n",
       "        <span id=\"e0ceb48b-a4d4-40d6-bac0-be3d3d0b66dd\">Loading BokehJS ...</span>\n",
       "    </div>"
      ]
     },
     "metadata": {},
     "output_type": "display_data"
    },
    {
     "data": {
      "application/javascript": [
       "\n",
       "(function(global) {\n",
       "  function now() {\n",
       "    return new Date();\n",
       "  }\n",
       "\n",
       "  var force = true;\n",
       "\n",
       "  if (typeof (window._bokeh_onload_callbacks) === \"undefined\" || force === true) {\n",
       "    window._bokeh_onload_callbacks = [];\n",
       "    window._bokeh_is_loading = undefined;\n",
       "  }\n",
       "\n",
       "\n",
       "  \n",
       "  if (typeof (window._bokeh_timeout) === \"undefined\" || force === true) {\n",
       "    window._bokeh_timeout = Date.now() + 5000;\n",
       "    window._bokeh_failed_load = false;\n",
       "  }\n",
       "\n",
       "  var NB_LOAD_WARNING = {'data': {'text/html':\n",
       "     \"<div style='background-color: #fdd'>\\n\"+\n",
       "     \"<p>\\n\"+\n",
       "     \"BokehJS does not appear to have successfully loaded. If loading BokehJS from CDN, this \\n\"+\n",
       "     \"may be due to a slow or bad network connection. Possible fixes:\\n\"+\n",
       "     \"</p>\\n\"+\n",
       "     \"<ul>\\n\"+\n",
       "     \"<li>re-rerun `output_notebook()` to attempt to load from CDN again, or</li>\\n\"+\n",
       "     \"<li>use INLINE resources instead, as so:</li>\\n\"+\n",
       "     \"</ul>\\n\"+\n",
       "     \"<code>\\n\"+\n",
       "     \"from bokeh.resources import INLINE\\n\"+\n",
       "     \"output_notebook(resources=INLINE)\\n\"+\n",
       "     \"</code>\\n\"+\n",
       "     \"</div>\"}};\n",
       "\n",
       "  function display_loaded() {\n",
       "    if (window.Bokeh !== undefined) {\n",
       "      document.getElementById(\"e0ceb48b-a4d4-40d6-bac0-be3d3d0b66dd\").textContent = \"BokehJS successfully loaded.\";\n",
       "    } else if (Date.now() < window._bokeh_timeout) {\n",
       "      setTimeout(display_loaded, 100)\n",
       "    }\n",
       "  }\n",
       "\n",
       "  function run_callbacks() {\n",
       "    window._bokeh_onload_callbacks.forEach(function(callback) { callback() });\n",
       "    delete window._bokeh_onload_callbacks\n",
       "    console.info(\"Bokeh: all callbacks have finished\");\n",
       "  }\n",
       "\n",
       "  function load_libs(js_urls, callback) {\n",
       "    window._bokeh_onload_callbacks.push(callback);\n",
       "    if (window._bokeh_is_loading > 0) {\n",
       "      console.log(\"Bokeh: BokehJS is being loaded, scheduling callback at\", now());\n",
       "      return null;\n",
       "    }\n",
       "    if (js_urls == null || js_urls.length === 0) {\n",
       "      run_callbacks();\n",
       "      return null;\n",
       "    }\n",
       "    console.log(\"Bokeh: BokehJS not loaded, scheduling load and callback at\", now());\n",
       "    window._bokeh_is_loading = js_urls.length;\n",
       "    for (var i = 0; i < js_urls.length; i++) {\n",
       "      var url = js_urls[i];\n",
       "      var s = document.createElement('script');\n",
       "      s.src = url;\n",
       "      s.async = false;\n",
       "      s.onreadystatechange = s.onload = function() {\n",
       "        window._bokeh_is_loading--;\n",
       "        if (window._bokeh_is_loading === 0) {\n",
       "          console.log(\"Bokeh: all BokehJS libraries loaded\");\n",
       "          run_callbacks()\n",
       "        }\n",
       "      };\n",
       "      s.onerror = function() {\n",
       "        console.warn(\"failed to load library \" + url);\n",
       "      };\n",
       "      console.log(\"Bokeh: injecting script tag for BokehJS library: \", url);\n",
       "      document.getElementsByTagName(\"head\")[0].appendChild(s);\n",
       "    }\n",
       "  };var element = document.getElementById(\"e0ceb48b-a4d4-40d6-bac0-be3d3d0b66dd\");\n",
       "  if (element == null) {\n",
       "    console.log(\"Bokeh: ERROR: autoload.js configured with elementid 'e0ceb48b-a4d4-40d6-bac0-be3d3d0b66dd' but no matching script tag was found. \")\n",
       "    return false;\n",
       "  }\n",
       "\n",
       "  var js_urls = [\"https://cdn.pydata.org/bokeh/release/bokeh-0.12.4.min.js\", \"https://cdn.pydata.org/bokeh/release/bokeh-widgets-0.12.4.min.js\"];\n",
       "\n",
       "  var inline_js = [\n",
       "    function(Bokeh) {\n",
       "      Bokeh.set_log_level(\"info\");\n",
       "    },\n",
       "    \n",
       "    function(Bokeh) {\n",
       "      \n",
       "      document.getElementById(\"e0ceb48b-a4d4-40d6-bac0-be3d3d0b66dd\").textContent = \"BokehJS is loading...\";\n",
       "    },\n",
       "    function(Bokeh) {\n",
       "      console.log(\"Bokeh: injecting CSS: https://cdn.pydata.org/bokeh/release/bokeh-0.12.4.min.css\");\n",
       "      Bokeh.embed.inject_css(\"https://cdn.pydata.org/bokeh/release/bokeh-0.12.4.min.css\");\n",
       "      console.log(\"Bokeh: injecting CSS: https://cdn.pydata.org/bokeh/release/bokeh-widgets-0.12.4.min.css\");\n",
       "      Bokeh.embed.inject_css(\"https://cdn.pydata.org/bokeh/release/bokeh-widgets-0.12.4.min.css\");\n",
       "    }\n",
       "  ];\n",
       "\n",
       "  function run_inline_js() {\n",
       "    \n",
       "    if ((window.Bokeh !== undefined) || (force === true)) {\n",
       "      for (var i = 0; i < inline_js.length; i++) {\n",
       "        inline_js[i](window.Bokeh);\n",
       "      }if (force === true) {\n",
       "        display_loaded();\n",
       "      }} else if (Date.now() < window._bokeh_timeout) {\n",
       "      setTimeout(run_inline_js, 100);\n",
       "    } else if (!window._bokeh_failed_load) {\n",
       "      console.log(\"Bokeh: BokehJS failed to load within specified timeout.\");\n",
       "      window._bokeh_failed_load = true;\n",
       "    } else if (force !== true) {\n",
       "      var cell = $(document.getElementById(\"e0ceb48b-a4d4-40d6-bac0-be3d3d0b66dd\")).parents('.cell').data().cell;\n",
       "      cell.output_area.append_execute_result(NB_LOAD_WARNING)\n",
       "    }\n",
       "\n",
       "  }\n",
       "\n",
       "  if (window._bokeh_is_loading === 0) {\n",
       "    console.log(\"Bokeh: BokehJS loaded, going straight to plotting\");\n",
       "    run_inline_js();\n",
       "  } else {\n",
       "    load_libs(js_urls, function() {\n",
       "      console.log(\"Bokeh: BokehJS plotting callback run at\", now());\n",
       "      run_inline_js();\n",
       "    });\n",
       "  }\n",
       "}(this));"
      ]
     },
     "metadata": {},
     "output_type": "display_data"
    }
   ],
   "source": [
    "# Load BokehJS.\n",
    "output_notebook()\n",
    "# Open plot in new tab.\n",
    "#output_file(\"zero_crossing.html\")"
   ]
  },
  {
   "cell_type": "code",
   "execution_count": 3,
   "metadata": {
    "collapsed": true,
    "deletable": true,
    "editable": true
   },
   "outputs": [],
   "source": [
    "# Settings.\n",
    "#sound_file = 'in_data/Ppip_TE384.wav'\n",
    "sound_file = 'in_data/Mdau_TE384.wav'\n",
    "#sound_file = 'in_data/myotis_plecotus_eptesicus_TE384.wav'\n",
    "\n",
    "cutoff_freq_hz = 15000\n",
    "zc_divratio = 4"
   ]
  },
  {
   "cell_type": "code",
   "execution_count": 4,
   "metadata": {
    "collapsed": true,
    "deletable": true,
    "editable": true
   },
   "outputs": [],
   "source": [
    "# Debug settings.\n",
    "play_sound = False\n",
    "debug = False\n",
    "#play_sound = True\n",
    "#debug = True"
   ]
  },
  {
   "cell_type": "code",
   "execution_count": 5,
   "metadata": {
    "collapsed": false,
    "deletable": true,
    "editable": true,
    "scrolled": true
   },
   "outputs": [
    {
     "name": "stdout",
     "output_type": "stream",
     "text": [
      "Sampling freq in file: 38400 Hz.\n",
      "398012 samples.\n"
     ]
    }
   ],
   "source": [
    "# Read the sound file.\n",
    "(sampling_freq, signal_int16) = wf.read(sound_file, 'rb')\n",
    "print('Sampling freq in file: ' + str(sampling_freq) + ' Hz.')\n",
    "print(str(len(signal_int16)) + ' samples.')\n",
    "if play_sound:\n",
    "    sounddevice.play(signal_int16, sampling_freq)\n",
    "    sounddevice.wait()"
   ]
  },
  {
   "cell_type": "code",
   "execution_count": 6,
   "metadata": {
    "collapsed": false,
    "deletable": true,
    "editable": true
   },
   "outputs": [
    {
     "name": "stdout",
     "output_type": "stream",
     "text": [
      "Sampling freq: 384000 Hz.\n"
     ]
    }
   ],
   "source": [
    "# Check if TE, Time Expansion.\n",
    "if '_TE' in sound_file:\n",
    "    sampling_freq *= 10\n",
    "print('Sampling freq: ' + str(sampling_freq) + ' Hz.')"
   ]
  },
  {
   "cell_type": "code",
   "execution_count": 7,
   "metadata": {
    "collapsed": true,
    "deletable": true,
    "editable": true
   },
   "outputs": [],
   "source": [
    "# Signed int16 to [-1.0, 1.0].\n",
    "signal = np.array(signal_int16) / 32768 "
   ]
  },
  {
   "cell_type": "code",
   "execution_count": 8,
   "metadata": {
    "collapsed": false,
    "deletable": true,
    "editable": true
   },
   "outputs": [
    {
     "name": "stdout",
     "output_type": "stream",
     "text": [
      "0.0303963383506\n"
     ]
    }
   ],
   "source": [
    "# Noise level. RMS, root-mean-square.\n",
    "noise_level = np.sqrt(np.mean(np.square(signal)))\n",
    "print(noise_level)"
   ]
  },
  {
   "cell_type": "code",
   "execution_count": 9,
   "metadata": {
    "collapsed": false,
    "deletable": true,
    "editable": true
   },
   "outputs": [],
   "source": [
    "# Filter. Butterworth.\n",
    "nyquist = 0.5 * sampling_freq\n",
    "low = cutoff_freq_hz / nyquist\n",
    "filter_order = 9\n",
    "b, a = scipy.signal.butter(filter_order, [low], btype='highpass')\n",
    "#signal= scipy.signal.lfilter(b, a, signal)\n",
    "signal= scipy.signal.filtfilt(b, a, signal)"
   ]
  },
  {
   "cell_type": "code",
   "execution_count": 10,
   "metadata": {
    "collapsed": false,
    "deletable": true,
    "editable": true
   },
   "outputs": [],
   "source": [
    "if debug:\n",
    "    print(len(signal))\n",
    "    print(signal[400000:400100])"
   ]
  },
  {
   "cell_type": "code",
   "execution_count": 11,
   "metadata": {
    "collapsed": false,
    "deletable": true,
    "editable": true
   },
   "outputs": [],
   "source": [
    "# Add hysteresis around zero to remove noise.\n",
    "signal[(signal < noise_level) & (signal > -noise_level)] = 0.0"
   ]
  },
  {
   "cell_type": "code",
   "execution_count": 12,
   "metadata": {
    "collapsed": false,
    "deletable": true,
    "editable": true
   },
   "outputs": [],
   "source": [
    "if debug:\n",
    "    print(len(signal))\n",
    "    print(signal[100000:100100])"
   ]
  },
  {
   "cell_type": "code",
   "execution_count": 13,
   "metadata": {
    "collapsed": true,
    "deletable": true,
    "editable": true
   },
   "outputs": [],
   "source": [
    "# Check where zero crossings may occur.\n",
    "sign_diff_array = np.diff(np.sign(signal))"
   ]
  },
  {
   "cell_type": "code",
   "execution_count": 14,
   "metadata": {
    "collapsed": false,
    "deletable": true,
    "editable": true
   },
   "outputs": [],
   "source": [
    "if debug:\n",
    "    print(len(sign_diff_array))\n",
    "    print(sign_diff_array[100000:100100])"
   ]
  },
  {
   "cell_type": "code",
   "execution_count": 15,
   "metadata": {
    "collapsed": false,
    "deletable": true,
    "editable": true
   },
   "outputs": [],
   "source": [
    "# Extract positive zero passings and interpolate where it occurs.\n",
    "index_array = []\n",
    "old_index = None\n",
    "for index, value in enumerate(sign_diff_array): #[:5000]):\n",
    "    if value in [2., 1., 0.]:\n",
    "        # Check for raising signal level.\n",
    "        if value == 2.:\n",
    "            # From negative directly to positive. Calculate interpolated index.\n",
    "            x_adjust = signal[index] / (signal[index] - signal[index+1])\n",
    "            index_array.append(index + x_adjust)\n",
    "            #print('')\n",
    "            #print(signal[index+1])\n",
    "            #print(signal[index])\n",
    "            #print(x_adjust)\n",
    "            old_index = None\n",
    "        elif (value == 1.) and (old_index is None):\n",
    "            # From negative to zero.\n",
    "            old_index = index\n",
    "        elif (value == 1.) and (old_index is not None):\n",
    "            # From zero to positive. Calculate interpolated index.\n",
    "            x_adjust = signal[old_index] / (signal[old_index] - signal[index+1])\n",
    "            #print('')\n",
    "            #print(signal[old_index])\n",
    "            #print(signal[index+1])\n",
    "            #print(x_adjust)\n",
    "            index_array.append(old_index + x_adjust)\n",
    "            old_index = None      \n",
    "    else:\n",
    "        # Falling signal level.\n",
    "        old_index = None\n",
    "\n",
    "if debug:\n",
    "    print(len(index_array))\n",
    "    print(index_array[:100])"
   ]
  },
  {
   "cell_type": "code",
   "execution_count": 16,
   "metadata": {
    "collapsed": false,
    "deletable": true,
    "editable": true
   },
   "outputs": [],
   "source": [
    "zero_crossings = index_array[::zc_divratio]\n",
    "if debug:\n",
    "    print(len(zero_crossings))"
   ]
  },
  {
   "cell_type": "code",
   "execution_count": 17,
   "metadata": {
    "collapsed": true,
    "deletable": true,
    "editable": true
   },
   "outputs": [],
   "source": [
    "freqs = []\n",
    "for index, ind in enumerate(zero_crossings[0:-1]):\n",
    "    freqs.append(zero_crossings[index+1] - zero_crossings[index])\n",
    "\n",
    "freq_array = np.array(freqs)"
   ]
  },
  {
   "cell_type": "code",
   "execution_count": 18,
   "metadata": {
    "collapsed": false,
    "deletable": true,
    "editable": true
   },
   "outputs": [],
   "source": [
    "# Prepare arrays for plotting.\n",
    "freq_array_khz = sampling_freq * zc_divratio / 1000.0 / freq_array\n",
    "time_array_s = np.array(zero_crossings[:-1]) / sampling_freq\n",
    "if debug:\n",
    "    print(len(freq_array_khz))\n",
    "    print(freq_array_khz[:100])\n",
    "    print(time_array_s[:100])"
   ]
  },
  {
   "cell_type": "code",
   "execution_count": 19,
   "metadata": {
    "collapsed": false,
    "deletable": true,
    "editable": true,
    "scrolled": false
   },
   "outputs": [
    {
     "name": "stdout",
     "output_type": "stream",
     "text": [
      "Number of plotted values: 512, divratio: 4\n"
     ]
    },
    {
     "data": {
      "text/html": [
       "\n",
       "\n",
       "    <div class=\"bk-root\">\n",
       "        <div class=\"bk-plotdiv\" id=\"86a659f9-f5a2-4c04-b155-663b92938c9c\"></div>\n",
       "    </div>\n",
       "<script type=\"text/javascript\">\n",
       "  \n",
       "  (function(global) {\n",
       "    function now() {\n",
       "      return new Date();\n",
       "    }\n",
       "  \n",
       "    var force = false;\n",
       "  \n",
       "    if (typeof (window._bokeh_onload_callbacks) === \"undefined\" || force === true) {\n",
       "      window._bokeh_onload_callbacks = [];\n",
       "      window._bokeh_is_loading = undefined;\n",
       "    }\n",
       "  \n",
       "  \n",
       "    \n",
       "    if (typeof (window._bokeh_timeout) === \"undefined\" || force === true) {\n",
       "      window._bokeh_timeout = Date.now() + 0;\n",
       "      window._bokeh_failed_load = false;\n",
       "    }\n",
       "  \n",
       "    var NB_LOAD_WARNING = {'data': {'text/html':\n",
       "       \"<div style='background-color: #fdd'>\\n\"+\n",
       "       \"<p>\\n\"+\n",
       "       \"BokehJS does not appear to have successfully loaded. If loading BokehJS from CDN, this \\n\"+\n",
       "       \"may be due to a slow or bad network connection. Possible fixes:\\n\"+\n",
       "       \"</p>\\n\"+\n",
       "       \"<ul>\\n\"+\n",
       "       \"<li>re-rerun `output_notebook()` to attempt to load from CDN again, or</li>\\n\"+\n",
       "       \"<li>use INLINE resources instead, as so:</li>\\n\"+\n",
       "       \"</ul>\\n\"+\n",
       "       \"<code>\\n\"+\n",
       "       \"from bokeh.resources import INLINE\\n\"+\n",
       "       \"output_notebook(resources=INLINE)\\n\"+\n",
       "       \"</code>\\n\"+\n",
       "       \"</div>\"}};\n",
       "  \n",
       "    function display_loaded() {\n",
       "      if (window.Bokeh !== undefined) {\n",
       "        document.getElementById(\"86a659f9-f5a2-4c04-b155-663b92938c9c\").textContent = \"BokehJS successfully loaded.\";\n",
       "      } else if (Date.now() < window._bokeh_timeout) {\n",
       "        setTimeout(display_loaded, 100)\n",
       "      }\n",
       "    }\n",
       "  \n",
       "    function run_callbacks() {\n",
       "      window._bokeh_onload_callbacks.forEach(function(callback) { callback() });\n",
       "      delete window._bokeh_onload_callbacks\n",
       "      console.info(\"Bokeh: all callbacks have finished\");\n",
       "    }\n",
       "  \n",
       "    function load_libs(js_urls, callback) {\n",
       "      window._bokeh_onload_callbacks.push(callback);\n",
       "      if (window._bokeh_is_loading > 0) {\n",
       "        console.log(\"Bokeh: BokehJS is being loaded, scheduling callback at\", now());\n",
       "        return null;\n",
       "      }\n",
       "      if (js_urls == null || js_urls.length === 0) {\n",
       "        run_callbacks();\n",
       "        return null;\n",
       "      }\n",
       "      console.log(\"Bokeh: BokehJS not loaded, scheduling load and callback at\", now());\n",
       "      window._bokeh_is_loading = js_urls.length;\n",
       "      for (var i = 0; i < js_urls.length; i++) {\n",
       "        var url = js_urls[i];\n",
       "        var s = document.createElement('script');\n",
       "        s.src = url;\n",
       "        s.async = false;\n",
       "        s.onreadystatechange = s.onload = function() {\n",
       "          window._bokeh_is_loading--;\n",
       "          if (window._bokeh_is_loading === 0) {\n",
       "            console.log(\"Bokeh: all BokehJS libraries loaded\");\n",
       "            run_callbacks()\n",
       "          }\n",
       "        };\n",
       "        s.onerror = function() {\n",
       "          console.warn(\"failed to load library \" + url);\n",
       "        };\n",
       "        console.log(\"Bokeh: injecting script tag for BokehJS library: \", url);\n",
       "        document.getElementsByTagName(\"head\")[0].appendChild(s);\n",
       "      }\n",
       "    };var element = document.getElementById(\"86a659f9-f5a2-4c04-b155-663b92938c9c\");\n",
       "    if (element == null) {\n",
       "      console.log(\"Bokeh: ERROR: autoload.js configured with elementid '86a659f9-f5a2-4c04-b155-663b92938c9c' but no matching script tag was found. \")\n",
       "      return false;\n",
       "    }\n",
       "  \n",
       "    var js_urls = [];\n",
       "  \n",
       "    var inline_js = [\n",
       "      function(Bokeh) {\n",
       "        (function() {\n",
       "          var fn = function() {\n",
       "            var docs_json = {\"87cbe8e8-48ae-472f-8d37-2c5ac57134f2\":{\"roots\":{\"references\":[{\"attributes\":{\"active_drag\":\"auto\",\"active_scroll\":\"auto\",\"active_tap\":\"auto\",\"tools\":[{\"id\":\"12de337b-7a1a-4dd1-87fc-22e94d008657\",\"type\":\"HoverTool\"},{\"id\":\"77f483c5-42c4-4606-9499-74a9e69b8f27\",\"type\":\"WheelZoomTool\"},{\"id\":\"a3edcf5b-8c2f-4b01-a689-0d898d0e0ee9\",\"type\":\"BoxZoomTool\"},{\"id\":\"f7b5eeca-977c-4cfc-a2e7-e72c7a1aff0f\",\"type\":\"CrosshairTool\"},{\"id\":\"34dd848d-41e7-4fbc-95f2-75a1f012c0a9\",\"type\":\"UndoTool\"},{\"id\":\"c23f6df5-a81d-4c66-8e2e-cff592fa4fa1\",\"type\":\"RedoTool\"},{\"id\":\"df1b7aca-67cf-4cba-9283-e398a2c1712d\",\"type\":\"ResetTool\"},{\"id\":\"a9090a32-1b5b-4c79-948f-6292652b8913\",\"type\":\"ResizeTool\"},{\"id\":\"be534416-ca4f-4235-988f-ab3f718232b1\",\"type\":\"PanTool\"},{\"id\":\"e85823e4-64f4-4dcf-b323-2a56b6ecd04b\",\"type\":\"SaveTool\"}]},\"id\":\"af96bc2c-d807-4d8b-9866-e5d58af45a2d\",\"type\":\"Toolbar\"},{\"attributes\":{},\"id\":\"0f8507b4-7f61-4621-9055-3240264426ca\",\"type\":\"BasicTickFormatter\"},{\"attributes\":{},\"id\":\"68c9d506-d79d-4e0b-8ea8-e6ec75234a20\",\"type\":\"ToolEvents\"},{\"attributes\":{},\"id\":\"e89a8bd5-ad2d-4fe2-b66f-bb28264b096b\",\"type\":\"BasicTicker\"},{\"attributes\":{\"data_source\":{\"id\":\"5a6c634d-6375-45fe-87df-e77e0cedd75a\",\"type\":\"ColumnDataSource\"},\"glyph\":{\"id\":\"60b9be0a-522d-43b0-8348-4d888f61e92a\",\"type\":\"Circle\"},\"hover_glyph\":null,\"nonselection_glyph\":{\"id\":\"8dc27690-afe1-4f5f-b29a-a3549f214b30\",\"type\":\"Circle\"},\"selection_glyph\":null},\"id\":\"3908c97d-3cf0-4011-8810-d404151d6223\",\"type\":\"GlyphRenderer\"},{\"attributes\":{\"axis_label\":\"Time (s)\",\"formatter\":{\"id\":\"0f8507b4-7f61-4621-9055-3240264426ca\",\"type\":\"BasicTickFormatter\"},\"plot\":{\"id\":\"222dcb74-525e-475b-9556-19ce5a7e4708\",\"subtype\":\"Figure\",\"type\":\"Plot\"},\"ticker\":{\"id\":\"e89a8bd5-ad2d-4fe2-b66f-bb28264b096b\",\"type\":\"BasicTicker\"}},\"id\":\"69fde58f-7585-4fbe-9d04-0beff07759cc\",\"type\":\"LinearAxis\"},{\"attributes\":{\"overlay\":{\"id\":\"e27c9107-28d0-43c3-9dd8-5f0435972d2d\",\"type\":\"BoxAnnotation\"},\"plot\":{\"id\":\"222dcb74-525e-475b-9556-19ce5a7e4708\",\"subtype\":\"Figure\",\"type\":\"Plot\"}},\"id\":\"a3edcf5b-8c2f-4b01-a689-0d898d0e0ee9\",\"type\":\"BoxZoomTool\"},{\"attributes\":{\"plot\":null,\"text\":\"in_data/Mdau_TE384.wav\"},\"id\":\"a88c580c-1fa8-42a9-9512-49f66feecbd7\",\"type\":\"Title\"},{\"attributes\":{\"below\":[{\"id\":\"69fde58f-7585-4fbe-9d04-0beff07759cc\",\"type\":\"LinearAxis\"}],\"left\":[{\"id\":\"a35593dd-08c0-40b4-86f2-ff31dab74f24\",\"type\":\"LinearAxis\"}],\"plot_width\":900,\"renderers\":[{\"id\":\"69fde58f-7585-4fbe-9d04-0beff07759cc\",\"type\":\"LinearAxis\"},{\"id\":\"c0be532d-1f1e-48f0-b982-95006018df69\",\"type\":\"Grid\"},{\"id\":\"a35593dd-08c0-40b4-86f2-ff31dab74f24\",\"type\":\"LinearAxis\"},{\"id\":\"b9b7e84d-16ea-4e9a-b42d-805c2636bdc6\",\"type\":\"Grid\"},{\"id\":\"e27c9107-28d0-43c3-9dd8-5f0435972d2d\",\"type\":\"BoxAnnotation\"},{\"id\":\"3908c97d-3cf0-4011-8810-d404151d6223\",\"type\":\"GlyphRenderer\"}],\"title\":{\"id\":\"a88c580c-1fa8-42a9-9512-49f66feecbd7\",\"type\":\"Title\"},\"tool_events\":{\"id\":\"68c9d506-d79d-4e0b-8ea8-e6ec75234a20\",\"type\":\"ToolEvents\"},\"toolbar\":{\"id\":\"af96bc2c-d807-4d8b-9866-e5d58af45a2d\",\"type\":\"Toolbar\"},\"toolbar_location\":\"above\",\"x_range\":{\"id\":\"f4372775-369f-4b17-abfa-9ab253b99c57\",\"type\":\"Range1d\"},\"y_range\":{\"id\":\"e1721554-af6b-41cf-b54a-2bbdd3d33d9e\",\"type\":\"Range1d\"}},\"id\":\"222dcb74-525e-475b-9556-19ce5a7e4708\",\"subtype\":\"Figure\",\"type\":\"Plot\"},{\"attributes\":{\"axis_label\":\"ZC frequency (kHz)\",\"formatter\":{\"id\":\"b6932d46-2f54-4670-92df-a6b1f0806615\",\"type\":\"BasicTickFormatter\"},\"plot\":{\"id\":\"222dcb74-525e-475b-9556-19ce5a7e4708\",\"subtype\":\"Figure\",\"type\":\"Plot\"},\"ticker\":{\"id\":\"6c5f0294-600e-4897-affa-467522f9ceaf\",\"type\":\"BasicTicker\"}},\"id\":\"a35593dd-08c0-40b4-86f2-ff31dab74f24\",\"type\":\"LinearAxis\"},{\"attributes\":{\"plot\":{\"id\":\"222dcb74-525e-475b-9556-19ce5a7e4708\",\"subtype\":\"Figure\",\"type\":\"Plot\"}},\"id\":\"e85823e4-64f4-4dcf-b323-2a56b6ecd04b\",\"type\":\"SaveTool\"},{\"attributes\":{},\"id\":\"6c5f0294-600e-4897-affa-467522f9ceaf\",\"type\":\"BasicTicker\"},{\"attributes\":{\"plot\":{\"id\":\"222dcb74-525e-475b-9556-19ce5a7e4708\",\"subtype\":\"Figure\",\"type\":\"Plot\"},\"ticker\":{\"id\":\"e89a8bd5-ad2d-4fe2-b66f-bb28264b096b\",\"type\":\"BasicTicker\"}},\"id\":\"c0be532d-1f1e-48f0-b982-95006018df69\",\"type\":\"Grid\"},{\"attributes\":{\"fill_alpha\":{\"value\":0.5},\"fill_color\":{\"value\":\"navy\"},\"line_alpha\":{\"value\":0.5},\"line_color\":{\"value\":\"navy\"},\"size\":{\"units\":\"screen\",\"value\":2},\"x\":{\"field\":\"x\"},\"y\":{\"field\":\"y\"}},\"id\":\"60b9be0a-522d-43b0-8348-4d888f61e92a\",\"type\":\"Circle\"},{\"attributes\":{\"plot\":{\"id\":\"222dcb74-525e-475b-9556-19ce5a7e4708\",\"subtype\":\"Figure\",\"type\":\"Plot\"}},\"id\":\"f7b5eeca-977c-4cfc-a2e7-e72c7a1aff0f\",\"type\":\"CrosshairTool\"},{\"attributes\":{\"bounds\":[0,192.0],\"callback\":null,\"end\":192.0},\"id\":\"e1721554-af6b-41cf-b54a-2bbdd3d33d9e\",\"type\":\"Range1d\"},{\"attributes\":{\"callback\":null,\"column_names\":[\"x\",\"y\"],\"data\":{\"x\":{\"__ndarray__\":\"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\",\"dtype\":\"float64\",\"shape\":[511]},\"y\":{\"__ndarray__\":\"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\",\"dtype\":\"float64\",\"shape\":[511]}}},\"id\":\"5a6c634d-6375-45fe-87df-e77e0cedd75a\",\"type\":\"ColumnDataSource\"},{\"attributes\":{\"dimension\":1,\"plot\":{\"id\":\"222dcb74-525e-475b-9556-19ce5a7e4708\",\"subtype\":\"Figure\",\"type\":\"Plot\"},\"ticker\":{\"id\":\"6c5f0294-600e-4897-affa-467522f9ceaf\",\"type\":\"BasicTicker\"}},\"id\":\"b9b7e84d-16ea-4e9a-b42d-805c2636bdc6\",\"type\":\"Grid\"},{\"attributes\":{\"plot\":{\"id\":\"222dcb74-525e-475b-9556-19ce5a7e4708\",\"subtype\":\"Figure\",\"type\":\"Plot\"}},\"id\":\"df1b7aca-67cf-4cba-9283-e398a2c1712d\",\"type\":\"ResetTool\"},{\"attributes\":{},\"id\":\"b6932d46-2f54-4670-92df-a6b1f0806615\",\"type\":\"BasicTickFormatter\"},{\"attributes\":{\"plot\":{\"id\":\"222dcb74-525e-475b-9556-19ce5a7e4708\",\"subtype\":\"Figure\",\"type\":\"Plot\"}},\"id\":\"77f483c5-42c4-4606-9499-74a9e69b8f27\",\"type\":\"WheelZoomTool\"},{\"attributes\":{\"plot\":{\"id\":\"222dcb74-525e-475b-9556-19ce5a7e4708\",\"subtype\":\"Figure\",\"type\":\"Plot\"}},\"id\":\"be534416-ca4f-4235-988f-ab3f718232b1\",\"type\":\"PanTool\"},{\"attributes\":{\"plot\":{\"id\":\"222dcb74-525e-475b-9556-19ce5a7e4708\",\"subtype\":\"Figure\",\"type\":\"Plot\"}},\"id\":\"c23f6df5-a81d-4c66-8e2e-cff592fa4fa1\",\"type\":\"RedoTool\"},{\"attributes\":{\"plot\":{\"id\":\"222dcb74-525e-475b-9556-19ce5a7e4708\",\"subtype\":\"Figure\",\"type\":\"Plot\"}},\"id\":\"a9090a32-1b5b-4c79-948f-6292652b8913\",\"type\":\"ResizeTool\"},{\"attributes\":{\"bottom_units\":\"screen\",\"fill_alpha\":{\"value\":0.5},\"fill_color\":{\"value\":\"lightgrey\"},\"left_units\":\"screen\",\"level\":\"overlay\",\"line_alpha\":{\"value\":1.0},\"line_color\":{\"value\":\"black\"},\"line_dash\":[4,4],\"line_width\":{\"value\":2},\"plot\":null,\"render_mode\":\"css\",\"right_units\":\"screen\",\"top_units\":\"screen\"},\"id\":\"e27c9107-28d0-43c3-9dd8-5f0435972d2d\",\"type\":\"BoxAnnotation\"},{\"attributes\":{\"bounds\":[0,1.0364895833333334],\"callback\":null,\"end\":1.0364895833333334},\"id\":\"f4372775-369f-4b17-abfa-9ab253b99c57\",\"type\":\"Range1d\"},{\"attributes\":{\"fill_alpha\":{\"value\":0.1},\"fill_color\":{\"value\":\"#1f77b4\"},\"line_alpha\":{\"value\":0.1},\"line_color\":{\"value\":\"#1f77b4\"},\"size\":{\"units\":\"screen\",\"value\":2},\"x\":{\"field\":\"x\"},\"y\":{\"field\":\"y\"}},\"id\":\"8dc27690-afe1-4f5f-b29a-a3549f214b30\",\"type\":\"Circle\"},{\"attributes\":{\"callback\":null,\"plot\":{\"id\":\"222dcb74-525e-475b-9556-19ce5a7e4708\",\"subtype\":\"Figure\",\"type\":\"Plot\"},\"point_policy\":\"follow_mouse\",\"tooltips\":[[\"Time (s)\",\"@x\"],[\"Frequency (kHz)\",\"@y\"]]},\"id\":\"12de337b-7a1a-4dd1-87fc-22e94d008657\",\"type\":\"HoverTool\"},{\"attributes\":{\"plot\":{\"id\":\"222dcb74-525e-475b-9556-19ce5a7e4708\",\"subtype\":\"Figure\",\"type\":\"Plot\"}},\"id\":\"34dd848d-41e7-4fbc-95f2-75a1f012c0a9\",\"type\":\"UndoTool\"}],\"root_ids\":[\"222dcb74-525e-475b-9556-19ce5a7e4708\"]},\"title\":\"Bokeh Application\",\"version\":\"0.12.4\"}};\n",
       "            var render_items = [{\"docid\":\"87cbe8e8-48ae-472f-8d37-2c5ac57134f2\",\"elementid\":\"86a659f9-f5a2-4c04-b155-663b92938c9c\",\"modelid\":\"222dcb74-525e-475b-9556-19ce5a7e4708\"}];\n",
       "            \n",
       "            Bokeh.embed.embed_items(docs_json, render_items);\n",
       "          };\n",
       "          if (document.readyState != \"loading\") fn();\n",
       "          else document.addEventListener(\"DOMContentLoaded\", fn);\n",
       "        })();\n",
       "      },\n",
       "      function(Bokeh) {\n",
       "      }\n",
       "    ];\n",
       "  \n",
       "    function run_inline_js() {\n",
       "      \n",
       "      if ((window.Bokeh !== undefined) || (force === true)) {\n",
       "        for (var i = 0; i < inline_js.length; i++) {\n",
       "          inline_js[i](window.Bokeh);\n",
       "        }if (force === true) {\n",
       "          display_loaded();\n",
       "        }} else if (Date.now() < window._bokeh_timeout) {\n",
       "        setTimeout(run_inline_js, 100);\n",
       "      } else if (!window._bokeh_failed_load) {\n",
       "        console.log(\"Bokeh: BokehJS failed to load within specified timeout.\");\n",
       "        window._bokeh_failed_load = true;\n",
       "      } else if (force !== true) {\n",
       "        var cell = $(document.getElementById(\"86a659f9-f5a2-4c04-b155-663b92938c9c\")).parents('.cell').data().cell;\n",
       "        cell.output_area.append_execute_result(NB_LOAD_WARNING)\n",
       "      }\n",
       "  \n",
       "    }\n",
       "  \n",
       "    if (window._bokeh_is_loading === 0) {\n",
       "      console.log(\"Bokeh: BokehJS loaded, going straight to plotting\");\n",
       "      run_inline_js();\n",
       "    } else {\n",
       "      load_libs(js_urls, function() {\n",
       "        console.log(\"Bokeh: BokehJS plotting callback run at\", now());\n",
       "        run_inline_js();\n",
       "      });\n",
       "    }\n",
       "  }(this));\n",
       "</script>"
      ]
     },
     "metadata": {},
     "output_type": "display_data"
    }
   ],
   "source": [
    "# Plotting using Bokeh.\n",
    "TOOLS=\"hover,wheel_zoom,box_zoom,crosshair,undo,redo,reset,resize,pan,previewsave\"\n",
    "# TOOLS=\"undo,redo,resize,crosshair,pan,wheel_zoom,box_zoom,reset,tap,previewsave,box_select,poly_select,lasso_select\"\n",
    "p = figure(tools=TOOLS, toolbar_location=\"above\")\n",
    "p.title.text = sound_file\n",
    "p.plot_width = 900 \n",
    "p.plot_height = 600\n",
    "p.circle(time_array_s, freq_array_khz, size=2, color=\"navy\", alpha=0.5)\n",
    "\n",
    "x_len = len(signal_int16) / sampling_freq\n",
    "y_max = sampling_freq / 1000 / 2\n",
    "\n",
    "p.xaxis.axis_label=\"Time (s)\"\n",
    "p.yaxis.axis_label=\"ZC frequency (kHz)\"\n",
    "p.x_range = Range1d(0, x_len, bounds=(0, x_len))\n",
    "p.y_range = Range1d(0, y_max, bounds=(0, y_max))\n",
    "\n",
    "hover = p.select_one(HoverTool)\n",
    "hover.point_policy = \"follow_mouse\"\n",
    "hover.tooltips = [\n",
    "         (\"Time (s)\", \"@x\"),\n",
    "         (\"Frequency (kHz)\", \"@y\"),\n",
    "    ]\n",
    "\n",
    "print('Number of plotted values: ' + str(len(zero_crossings)) + ', divratio: ' + str(zc_divratio))\n",
    "\n",
    "show(p)"
   ]
  },
  {
   "cell_type": "code",
   "execution_count": null,
   "metadata": {
    "collapsed": true,
    "deletable": true,
    "editable": true
   },
   "outputs": [],
   "source": []
  },
  {
   "cell_type": "code",
   "execution_count": null,
   "metadata": {
    "collapsed": true,
    "deletable": true,
    "editable": true
   },
   "outputs": [],
   "source": []
  },
  {
   "cell_type": "code",
   "execution_count": null,
   "metadata": {
    "collapsed": true,
    "deletable": true,
    "editable": true
   },
   "outputs": [],
   "source": []
  },
  {
   "cell_type": "code",
   "execution_count": null,
   "metadata": {
    "collapsed": true,
    "deletable": true,
    "editable": true
   },
   "outputs": [],
   "source": []
  },
  {
   "cell_type": "code",
   "execution_count": null,
   "metadata": {
    "collapsed": true,
    "deletable": true,
    "editable": true
   },
   "outputs": [],
   "source": []
  },
  {
   "cell_type": "code",
   "execution_count": null,
   "metadata": {
    "collapsed": true,
    "deletable": true,
    "editable": true
   },
   "outputs": [],
   "source": []
  },
  {
   "cell_type": "code",
   "execution_count": null,
   "metadata": {
    "collapsed": true,
    "deletable": true,
    "editable": true
   },
   "outputs": [],
   "source": []
  },
  {
   "cell_type": "code",
   "execution_count": null,
   "metadata": {
    "collapsed": true,
    "deletable": true,
    "editable": true
   },
   "outputs": [],
   "source": []
  },
  {
   "cell_type": "code",
   "execution_count": null,
   "metadata": {
    "collapsed": true,
    "deletable": true,
    "editable": true
   },
   "outputs": [],
   "source": []
  },
  {
   "cell_type": "code",
   "execution_count": null,
   "metadata": {
    "collapsed": true,
    "deletable": true,
    "editable": true
   },
   "outputs": [],
   "source": []
  }
 ],
 "metadata": {
  "kernelspec": {
   "display_name": "Python 3",
   "language": "python",
   "name": "python3"
  },
  "language_info": {
   "codemirror_mode": {
    "name": "ipython",
    "version": 3
   },
   "file_extension": ".py",
   "mimetype": "text/x-python",
   "name": "python",
   "nbconvert_exporter": "python",
   "pygments_lexer": "ipython3",
   "version": "3.5.2"
  }
 },
 "nbformat": 4,
 "nbformat_minor": 2
}
