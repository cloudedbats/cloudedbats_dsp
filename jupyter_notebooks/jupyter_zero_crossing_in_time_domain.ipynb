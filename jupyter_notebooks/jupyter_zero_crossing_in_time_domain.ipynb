{
 "cells": [
  {
   "cell_type": "markdown",
   "metadata": {
    "collapsed": true,
    "deletable": true,
    "editable": true
   },
   "source": [
    "# Wave (.wav) to Zero Crossing.\n",
    "\n",
    "This is an attempt to produce synthetic ZC (Zero Crossing) from FS (Full Scan) files. All parts are calculated in the time domain to mimic true ZC, FFT is not used.\n",
    "\n",
    "Current status: Seems to work well for \"easy files\", but not for mixed and low amplitude recordings. I don't know why...\n",
    "\n",
    "Sources in information/inspiration:\n",
    "\n",
    "- http://users.lmi.net/corben/fileform.htm#Anabat%20File%20Formats\n",
    "- https://stackoverflow.com/questions/3843017/efficiently-detect-sign-changes-in-python\n",
    "- https://github.com/riggsd/zcant/blob/master/zcant/conversion.py\n"
   ]
  },
  {
   "cell_type": "code",
   "execution_count": 1,
   "metadata": {
    "collapsed": true,
    "deletable": true,
    "editable": true
   },
   "outputs": [],
   "source": [
    "import numpy as np\n",
    "import scipy.io.wavfile as wf\n",
    "import scipy.signal\n",
    "import sounddevice\n",
    "from bokeh.io import output_notebook\n",
    "from bokeh.plotting import output_file, show, figure\n",
    "from bokeh.charts import Scatter\n",
    "from bokeh.models import Range1d, HoverTool"
   ]
  },
  {
   "cell_type": "code",
   "execution_count": 2,
   "metadata": {
    "collapsed": false,
    "deletable": true,
    "editable": true
   },
   "outputs": [
    {
     "data": {
      "text/html": [
       "\n",
       "    <div class=\"bk-root\">\n",
       "        <a href=\"http://bokeh.pydata.org\" target=\"_blank\" class=\"bk-logo bk-logo-small bk-logo-notebook\"></a>\n",
       "        <span id=\"108b0c2a-76f8-4768-bbfe-497e40a7020a\">Loading BokehJS ...</span>\n",
       "    </div>"
      ]
     },
     "metadata": {},
     "output_type": "display_data"
    },
    {
     "data": {
      "application/javascript": [
       "\n",
       "(function(global) {\n",
       "  function now() {\n",
       "    return new Date();\n",
       "  }\n",
       "\n",
       "  var force = true;\n",
       "\n",
       "  if (typeof (window._bokeh_onload_callbacks) === \"undefined\" || force === true) {\n",
       "    window._bokeh_onload_callbacks = [];\n",
       "    window._bokeh_is_loading = undefined;\n",
       "  }\n",
       "\n",
       "\n",
       "  \n",
       "  if (typeof (window._bokeh_timeout) === \"undefined\" || force === true) {\n",
       "    window._bokeh_timeout = Date.now() + 5000;\n",
       "    window._bokeh_failed_load = false;\n",
       "  }\n",
       "\n",
       "  var NB_LOAD_WARNING = {'data': {'text/html':\n",
       "     \"<div style='background-color: #fdd'>\\n\"+\n",
       "     \"<p>\\n\"+\n",
       "     \"BokehJS does not appear to have successfully loaded. If loading BokehJS from CDN, this \\n\"+\n",
       "     \"may be due to a slow or bad network connection. Possible fixes:\\n\"+\n",
       "     \"</p>\\n\"+\n",
       "     \"<ul>\\n\"+\n",
       "     \"<li>re-rerun `output_notebook()` to attempt to load from CDN again, or</li>\\n\"+\n",
       "     \"<li>use INLINE resources instead, as so:</li>\\n\"+\n",
       "     \"</ul>\\n\"+\n",
       "     \"<code>\\n\"+\n",
       "     \"from bokeh.resources import INLINE\\n\"+\n",
       "     \"output_notebook(resources=INLINE)\\n\"+\n",
       "     \"</code>\\n\"+\n",
       "     \"</div>\"}};\n",
       "\n",
       "  function display_loaded() {\n",
       "    if (window.Bokeh !== undefined) {\n",
       "      document.getElementById(\"108b0c2a-76f8-4768-bbfe-497e40a7020a\").textContent = \"BokehJS successfully loaded.\";\n",
       "    } else if (Date.now() < window._bokeh_timeout) {\n",
       "      setTimeout(display_loaded, 100)\n",
       "    }\n",
       "  }\n",
       "\n",
       "  function run_callbacks() {\n",
       "    window._bokeh_onload_callbacks.forEach(function(callback) { callback() });\n",
       "    delete window._bokeh_onload_callbacks\n",
       "    console.info(\"Bokeh: all callbacks have finished\");\n",
       "  }\n",
       "\n",
       "  function load_libs(js_urls, callback) {\n",
       "    window._bokeh_onload_callbacks.push(callback);\n",
       "    if (window._bokeh_is_loading > 0) {\n",
       "      console.log(\"Bokeh: BokehJS is being loaded, scheduling callback at\", now());\n",
       "      return null;\n",
       "    }\n",
       "    if (js_urls == null || js_urls.length === 0) {\n",
       "      run_callbacks();\n",
       "      return null;\n",
       "    }\n",
       "    console.log(\"Bokeh: BokehJS not loaded, scheduling load and callback at\", now());\n",
       "    window._bokeh_is_loading = js_urls.length;\n",
       "    for (var i = 0; i < js_urls.length; i++) {\n",
       "      var url = js_urls[i];\n",
       "      var s = document.createElement('script');\n",
       "      s.src = url;\n",
       "      s.async = false;\n",
       "      s.onreadystatechange = s.onload = function() {\n",
       "        window._bokeh_is_loading--;\n",
       "        if (window._bokeh_is_loading === 0) {\n",
       "          console.log(\"Bokeh: all BokehJS libraries loaded\");\n",
       "          run_callbacks()\n",
       "        }\n",
       "      };\n",
       "      s.onerror = function() {\n",
       "        console.warn(\"failed to load library \" + url);\n",
       "      };\n",
       "      console.log(\"Bokeh: injecting script tag for BokehJS library: \", url);\n",
       "      document.getElementsByTagName(\"head\")[0].appendChild(s);\n",
       "    }\n",
       "  };var element = document.getElementById(\"108b0c2a-76f8-4768-bbfe-497e40a7020a\");\n",
       "  if (element == null) {\n",
       "    console.log(\"Bokeh: ERROR: autoload.js configured with elementid '108b0c2a-76f8-4768-bbfe-497e40a7020a' but no matching script tag was found. \")\n",
       "    return false;\n",
       "  }\n",
       "\n",
       "  var js_urls = [\"https://cdn.pydata.org/bokeh/release/bokeh-0.12.4.min.js\", \"https://cdn.pydata.org/bokeh/release/bokeh-widgets-0.12.4.min.js\"];\n",
       "\n",
       "  var inline_js = [\n",
       "    function(Bokeh) {\n",
       "      Bokeh.set_log_level(\"info\");\n",
       "    },\n",
       "    \n",
       "    function(Bokeh) {\n",
       "      \n",
       "      document.getElementById(\"108b0c2a-76f8-4768-bbfe-497e40a7020a\").textContent = \"BokehJS is loading...\";\n",
       "    },\n",
       "    function(Bokeh) {\n",
       "      console.log(\"Bokeh: injecting CSS: https://cdn.pydata.org/bokeh/release/bokeh-0.12.4.min.css\");\n",
       "      Bokeh.embed.inject_css(\"https://cdn.pydata.org/bokeh/release/bokeh-0.12.4.min.css\");\n",
       "      console.log(\"Bokeh: injecting CSS: https://cdn.pydata.org/bokeh/release/bokeh-widgets-0.12.4.min.css\");\n",
       "      Bokeh.embed.inject_css(\"https://cdn.pydata.org/bokeh/release/bokeh-widgets-0.12.4.min.css\");\n",
       "    }\n",
       "  ];\n",
       "\n",
       "  function run_inline_js() {\n",
       "    \n",
       "    if ((window.Bokeh !== undefined) || (force === true)) {\n",
       "      for (var i = 0; i < inline_js.length; i++) {\n",
       "        inline_js[i](window.Bokeh);\n",
       "      }if (force === true) {\n",
       "        display_loaded();\n",
       "      }} else if (Date.now() < window._bokeh_timeout) {\n",
       "      setTimeout(run_inline_js, 100);\n",
       "    } else if (!window._bokeh_failed_load) {\n",
       "      console.log(\"Bokeh: BokehJS failed to load within specified timeout.\");\n",
       "      window._bokeh_failed_load = true;\n",
       "    } else if (force !== true) {\n",
       "      var cell = $(document.getElementById(\"108b0c2a-76f8-4768-bbfe-497e40a7020a\")).parents('.cell').data().cell;\n",
       "      cell.output_area.append_execute_result(NB_LOAD_WARNING)\n",
       "    }\n",
       "\n",
       "  }\n",
       "\n",
       "  if (window._bokeh_is_loading === 0) {\n",
       "    console.log(\"Bokeh: BokehJS loaded, going straight to plotting\");\n",
       "    run_inline_js();\n",
       "  } else {\n",
       "    load_libs(js_urls, function() {\n",
       "      console.log(\"Bokeh: BokehJS plotting callback run at\", now());\n",
       "      run_inline_js();\n",
       "    });\n",
       "  }\n",
       "}(this));"
      ]
     },
     "metadata": {},
     "output_type": "display_data"
    }
   ],
   "source": [
    "# Load BokehJS.\n",
    "output_notebook()\n",
    "# Open plot in new tab.\n",
    "output_file(\"zero_crossing.html\")"
   ]
  },
  {
   "cell_type": "code",
   "execution_count": 3,
   "metadata": {
    "collapsed": true,
    "deletable": true,
    "editable": true
   },
   "outputs": [],
   "source": [
    "# Settings.\n",
    "#sound_file = 'in_data/Ppip_TE384.wav'\n",
    "sound_file = 'in_data/Mdau_TE384.wav'\n",
    "#sound_file = 'in_data/myotis_plecotus_eptesicus_TE384.wav'\n",
    "\n",
    "cutoff_freq_hz = 18000\n",
    "zc_divratio = 2"
   ]
  },
  {
   "cell_type": "code",
   "execution_count": 4,
   "metadata": {
    "collapsed": true,
    "deletable": true,
    "editable": true
   },
   "outputs": [],
   "source": [
    "# Debug settings.\n",
    "play_sound = False\n",
    "debug = False"
   ]
  },
  {
   "cell_type": "code",
   "execution_count": 5,
   "metadata": {
    "collapsed": false,
    "deletable": true,
    "editable": true,
    "scrolled": true
   },
   "outputs": [
    {
     "name": "stdout",
     "output_type": "stream",
     "text": [
      "Sampling freq in file: 38400 Hz.\n",
      "398012 samples.\n"
     ]
    }
   ],
   "source": [
    "# Read the sound file.\n",
    "(sampling_freq, signal_int16) = wf.read(sound_file, 'rb')\n",
    "print('Sampling freq in file: ' + str(sampling_freq) + ' Hz.')\n",
    "print(str(len(signal_int16)) + ' samples.')\n",
    "if play_sound:\n",
    "    sounddevice.play(signal_int16, sampling_freq)\n",
    "    sounddevice.wait()"
   ]
  },
  {
   "cell_type": "code",
   "execution_count": 6,
   "metadata": {
    "collapsed": false,
    "deletable": true,
    "editable": true
   },
   "outputs": [
    {
     "name": "stdout",
     "output_type": "stream",
     "text": [
      "Sampling freq: 384000 Hz.\n"
     ]
    }
   ],
   "source": [
    "# Check if TE, Time Expansion.\n",
    "if '_TE' in sound_file:\n",
    "    sampling_freq *= 10\n",
    "print('Sampling freq: ' + str(sampling_freq) + ' Hz.')"
   ]
  },
  {
   "cell_type": "code",
   "execution_count": 7,
   "metadata": {
    "collapsed": true,
    "deletable": true,
    "editable": true
   },
   "outputs": [],
   "source": [
    "# Signed int16 to [-1.0, 1.0].\n",
    "signal = np.array(signal_int16) / 32768 "
   ]
  },
  {
   "cell_type": "code",
   "execution_count": 8,
   "metadata": {
    "collapsed": false,
    "deletable": true,
    "editable": true
   },
   "outputs": [
    {
     "name": "stdout",
     "output_type": "stream",
     "text": [
      "0.0303963383506\n"
     ]
    }
   ],
   "source": [
    "# Noise level. RMS, root-mean-square.\n",
    "noise_level = np.sqrt(np.mean(np.square(signal)))\n",
    "print(noise_level)"
   ]
  },
  {
   "cell_type": "code",
   "execution_count": 9,
   "metadata": {
    "collapsed": false,
    "deletable": true,
    "editable": true
   },
   "outputs": [],
   "source": [
    "# Filter. Butterworth.\n",
    "nyquist = 0.5 * sampling_freq\n",
    "low = cutoff_freq_hz / nyquist\n",
    "filter_order = 9\n",
    "b, a = scipy.signal.butter(filter_order, [low], btype='highpass')\n",
    "#signal= scipy.signal.lfilter(b, a, signal)\n",
    "signal= scipy.signal.filtfilt(b, a, signal)"
   ]
  },
  {
   "cell_type": "code",
   "execution_count": 10,
   "metadata": {
    "collapsed": false,
    "deletable": true,
    "editable": true
   },
   "outputs": [],
   "source": [
    "# Add hysteresis around zero to remove noise.\n",
    "signal[(signal < noise_level) & (signal > -noise_level)] = 0.0"
   ]
  },
  {
   "cell_type": "code",
   "execution_count": 11,
   "metadata": {
    "collapsed": true,
    "deletable": true,
    "editable": true
   },
   "outputs": [],
   "source": [
    "# Check where zero crossings may occur.\n",
    "sign_diff_array = np.diff(np.sign(signal))"
   ]
  },
  {
   "cell_type": "code",
   "execution_count": 12,
   "metadata": {
    "collapsed": false,
    "deletable": true,
    "editable": true
   },
   "outputs": [
    {
     "name": "stdout",
     "output_type": "stream",
     "text": [
      "2045\n"
     ]
    }
   ],
   "source": [
    "# Extract positive zero passings and interpolate where it occurs.\n",
    "index_array = []\n",
    "old_index = None\n",
    "for index, value in enumerate(sign_diff_array):\n",
    "    if value in [2., 1., 0.]:\n",
    "        # Check for raising signal level.\n",
    "        if value == 2.:\n",
    "            # From negative directly to positive. Calculate interpolated index.\n",
    "            x_adjust = signal[index] / (signal[index] - signal[index+1])\n",
    "            index_array.append(index + x_adjust)\n",
    "            old_index = None\n",
    "        elif (value == 1.) and (old_index is None):\n",
    "            # From negative to zero.\n",
    "            old_index = index\n",
    "        elif (value == 1.) and (old_index is not None):\n",
    "            # From zero to positive. Calculate interpolated index.\n",
    "            x_adjust = signal[old_index] / (signal[old_index] - signal[index+1])\n",
    "            index_array.append(old_index + x_adjust)\n",
    "            old_index = None      \n",
    "    else:\n",
    "        # Falling signal level.\n",
    "        old_index = None\n",
    "\n",
    "print(len(index_array))\n",
    "if debug:\n",
    "    print(index_array[:100])"
   ]
  },
  {
   "cell_type": "code",
   "execution_count": 13,
   "metadata": {
    "collapsed": false,
    "deletable": true,
    "editable": true
   },
   "outputs": [
    {
     "name": "stdout",
     "output_type": "stream",
     "text": [
      "1023\n"
     ]
    }
   ],
   "source": [
    "zero_crossings = index_array[::zc_divratio]\n",
    "print(len(zero_crossings))"
   ]
  },
  {
   "cell_type": "code",
   "execution_count": 14,
   "metadata": {
    "collapsed": false,
    "deletable": true,
    "editable": true
   },
   "outputs": [
    {
     "name": "stdout",
     "output_type": "stream",
     "text": [
      "985\n"
     ]
    }
   ],
   "source": [
    "freqs = []\n",
    "times = []\n",
    "for index, zero_crossing in enumerate(zero_crossings[0:-1]):\n",
    "    freq = zero_crossings[index+1] - zero_crossings[index]\n",
    "    freq_hz = sampling_freq * zc_divratio / freq\n",
    "    if freq_hz >= cutoff_freq_hz:\n",
    "        freqs.append(freq_hz)\n",
    "        times.append(zero_crossing)\n",
    "print(len(freqs))"
   ]
  },
  {
   "cell_type": "code",
   "execution_count": 15,
   "metadata": {
    "collapsed": false,
    "deletable": true,
    "editable": true
   },
   "outputs": [],
   "source": [
    "# Prepare arrays for plotting.\n",
    "freq_array_khz = np.array(freqs) / 1000.0\n",
    "time_array_s = np.array(times) / sampling_freq\n",
    "if debug:\n",
    "    print(len(freq_array_khz))\n",
    "    print(freq_array_khz[:100])\n",
    "    print(time_array_s[:100])"
   ]
  },
  {
   "cell_type": "code",
   "execution_count": 17,
   "metadata": {
    "collapsed": false,
    "deletable": true,
    "editable": true,
    "scrolled": false
   },
   "outputs": [
    {
     "name": "stdout",
     "output_type": "stream",
     "text": [
      "Number of plotted values: 1023, divratio: 2\n"
     ]
    },
    {
     "data": {
      "text/html": [
       "\n",
       "\n",
       "    <div class=\"bk-root\">\n",
       "        <div class=\"bk-plotdiv\" id=\"89299574-b969-4d1b-9e0d-fe21ca8af188\"></div>\n",
       "    </div>\n",
       "<script type=\"text/javascript\">\n",
       "  \n",
       "  (function(global) {\n",
       "    function now() {\n",
       "      return new Date();\n",
       "    }\n",
       "  \n",
       "    var force = false;\n",
       "  \n",
       "    if (typeof (window._bokeh_onload_callbacks) === \"undefined\" || force === true) {\n",
       "      window._bokeh_onload_callbacks = [];\n",
       "      window._bokeh_is_loading = undefined;\n",
       "    }\n",
       "  \n",
       "  \n",
       "    \n",
       "    if (typeof (window._bokeh_timeout) === \"undefined\" || force === true) {\n",
       "      window._bokeh_timeout = Date.now() + 0;\n",
       "      window._bokeh_failed_load = false;\n",
       "    }\n",
       "  \n",
       "    var NB_LOAD_WARNING = {'data': {'text/html':\n",
       "       \"<div style='background-color: #fdd'>\\n\"+\n",
       "       \"<p>\\n\"+\n",
       "       \"BokehJS does not appear to have successfully loaded. If loading BokehJS from CDN, this \\n\"+\n",
       "       \"may be due to a slow or bad network connection. Possible fixes:\\n\"+\n",
       "       \"</p>\\n\"+\n",
       "       \"<ul>\\n\"+\n",
       "       \"<li>re-rerun `output_notebook()` to attempt to load from CDN again, or</li>\\n\"+\n",
       "       \"<li>use INLINE resources instead, as so:</li>\\n\"+\n",
       "       \"</ul>\\n\"+\n",
       "       \"<code>\\n\"+\n",
       "       \"from bokeh.resources import INLINE\\n\"+\n",
       "       \"output_notebook(resources=INLINE)\\n\"+\n",
       "       \"</code>\\n\"+\n",
       "       \"</div>\"}};\n",
       "  \n",
       "    function display_loaded() {\n",
       "      if (window.Bokeh !== undefined) {\n",
       "        document.getElementById(\"89299574-b969-4d1b-9e0d-fe21ca8af188\").textContent = \"BokehJS successfully loaded.\";\n",
       "      } else if (Date.now() < window._bokeh_timeout) {\n",
       "        setTimeout(display_loaded, 100)\n",
       "      }\n",
       "    }\n",
       "  \n",
       "    function run_callbacks() {\n",
       "      window._bokeh_onload_callbacks.forEach(function(callback) { callback() });\n",
       "      delete window._bokeh_onload_callbacks\n",
       "      console.info(\"Bokeh: all callbacks have finished\");\n",
       "    }\n",
       "  \n",
       "    function load_libs(js_urls, callback) {\n",
       "      window._bokeh_onload_callbacks.push(callback);\n",
       "      if (window._bokeh_is_loading > 0) {\n",
       "        console.log(\"Bokeh: BokehJS is being loaded, scheduling callback at\", now());\n",
       "        return null;\n",
       "      }\n",
       "      if (js_urls == null || js_urls.length === 0) {\n",
       "        run_callbacks();\n",
       "        return null;\n",
       "      }\n",
       "      console.log(\"Bokeh: BokehJS not loaded, scheduling load and callback at\", now());\n",
       "      window._bokeh_is_loading = js_urls.length;\n",
       "      for (var i = 0; i < js_urls.length; i++) {\n",
       "        var url = js_urls[i];\n",
       "        var s = document.createElement('script');\n",
       "        s.src = url;\n",
       "        s.async = false;\n",
       "        s.onreadystatechange = s.onload = function() {\n",
       "          window._bokeh_is_loading--;\n",
       "          if (window._bokeh_is_loading === 0) {\n",
       "            console.log(\"Bokeh: all BokehJS libraries loaded\");\n",
       "            run_callbacks()\n",
       "          }\n",
       "        };\n",
       "        s.onerror = function() {\n",
       "          console.warn(\"failed to load library \" + url);\n",
       "        };\n",
       "        console.log(\"Bokeh: injecting script tag for BokehJS library: \", url);\n",
       "        document.getElementsByTagName(\"head\")[0].appendChild(s);\n",
       "      }\n",
       "    };var element = document.getElementById(\"89299574-b969-4d1b-9e0d-fe21ca8af188\");\n",
       "    if (element == null) {\n",
       "      console.log(\"Bokeh: ERROR: autoload.js configured with elementid '89299574-b969-4d1b-9e0d-fe21ca8af188' but no matching script tag was found. \")\n",
       "      return false;\n",
       "    }\n",
       "  \n",
       "    var js_urls = [];\n",
       "  \n",
       "    var inline_js = [\n",
       "      function(Bokeh) {\n",
       "        (function() {\n",
       "          var fn = function() {\n",
       "            var docs_json = {\"d8fa8561-f133-497b-969b-1dfb4e2f3087\":{\"roots\":{\"references\":[{\"attributes\":{\"overlay\":{\"id\":\"4e53dac6-dbd9-4734-a159-299950aeed9c\",\"type\":\"BoxAnnotation\"},\"plot\":{\"id\":\"ee96d09f-04dc-43f9-8599-ff62c9aa5d2e\",\"subtype\":\"Figure\",\"type\":\"Plot\"}},\"id\":\"641713ad-97f6-455d-b396-db4ff5223866\",\"type\":\"BoxZoomTool\"},{\"attributes\":{\"fill_alpha\":{\"value\":0.1},\"fill_color\":{\"value\":\"#1f77b4\"},\"line_alpha\":{\"value\":0.1},\"line_color\":{\"value\":\"#1f77b4\"},\"size\":{\"units\":\"screen\",\"value\":2},\"x\":{\"field\":\"x\"},\"y\":{\"field\":\"y\"}},\"id\":\"0622a616-6c20-4a41-b6a5-51117134908b\",\"type\":\"Circle\"},{\"attributes\":{\"plot\":{\"id\":\"ee96d09f-04dc-43f9-8599-ff62c9aa5d2e\",\"subtype\":\"Figure\",\"type\":\"Plot\"},\"ticker\":{\"id\":\"89b836fb-ab8f-4dad-870f-10d35ea11783\",\"type\":\"BasicTicker\"}},\"id\":\"d652c73d-4f7b-4627-bf3a-b6ee26c7f44f\",\"type\":\"Grid\"},{\"attributes\":{\"fill_alpha\":{\"value\":0.5},\"fill_color\":{\"value\":\"navy\"},\"line_alpha\":{\"value\":0.5},\"line_color\":{\"value\":\"navy\"},\"size\":{\"units\":\"screen\",\"value\":2},\"x\":{\"field\":\"x\"},\"y\":{\"field\":\"y\"}},\"id\":\"87aef3a4-13bc-4530-ad9b-257c8427c12d\",\"type\":\"Circle\"},{\"attributes\":{\"below\":[{\"id\":\"9ff59222-fcdb-43a4-8762-f226a1e02c7d\",\"type\":\"LinearAxis\"}],\"left\":[{\"id\":\"1a81a5da-358f-42ae-82ca-32a4abcf91a8\",\"type\":\"LinearAxis\"}],\"plot_width\":900,\"renderers\":[{\"id\":\"9ff59222-fcdb-43a4-8762-f226a1e02c7d\",\"type\":\"LinearAxis\"},{\"id\":\"d652c73d-4f7b-4627-bf3a-b6ee26c7f44f\",\"type\":\"Grid\"},{\"id\":\"1a81a5da-358f-42ae-82ca-32a4abcf91a8\",\"type\":\"LinearAxis\"},{\"id\":\"0802dd6e-65dd-437b-9a10-70d025e707b3\",\"type\":\"Grid\"},{\"id\":\"4e53dac6-dbd9-4734-a159-299950aeed9c\",\"type\":\"BoxAnnotation\"},{\"id\":\"13a81943-10da-44cf-a6bb-44f3c8e88410\",\"type\":\"GlyphRenderer\"}],\"title\":{\"id\":\"563887ee-8d56-41c5-8f5d-74c3cfcf58f5\",\"type\":\"Title\"},\"tool_events\":{\"id\":\"5581cbd5-7645-42e9-8dba-ad9c43fa9c79\",\"type\":\"ToolEvents\"},\"toolbar\":{\"id\":\"e82e663a-e736-406a-b351-b7b219be04e4\",\"type\":\"Toolbar\"},\"toolbar_location\":\"above\",\"x_range\":{\"id\":\"3f795696-c436-45fd-bff4-be3010ad6fe1\",\"type\":\"Range1d\"},\"y_range\":{\"id\":\"0dea57ff-e040-4c71-9883-8bee4c79cbef\",\"type\":\"Range1d\"}},\"id\":\"ee96d09f-04dc-43f9-8599-ff62c9aa5d2e\",\"subtype\":\"Figure\",\"type\":\"Plot\"},{\"attributes\":{},\"id\":\"81fee5dd-a017-40f4-af0f-f4892c09ebd6\",\"type\":\"BasicTickFormatter\"},{\"attributes\":{\"data_source\":{\"id\":\"b62ae729-c91d-4446-b5ed-45112f9c1bf1\",\"type\":\"ColumnDataSource\"},\"glyph\":{\"id\":\"87aef3a4-13bc-4530-ad9b-257c8427c12d\",\"type\":\"Circle\"},\"hover_glyph\":null,\"nonselection_glyph\":{\"id\":\"0622a616-6c20-4a41-b6a5-51117134908b\",\"type\":\"Circle\"},\"selection_glyph\":null},\"id\":\"13a81943-10da-44cf-a6bb-44f3c8e88410\",\"type\":\"GlyphRenderer\"},{\"attributes\":{\"plot\":{\"id\":\"ee96d09f-04dc-43f9-8599-ff62c9aa5d2e\",\"subtype\":\"Figure\",\"type\":\"Plot\"}},\"id\":\"51e3b553-a847-4169-8e47-91ff2a339b24\",\"type\":\"ResetTool\"},{\"attributes\":{\"bounds\":[0,1.0364895833333334],\"callback\":null,\"end\":1.0364895833333334},\"id\":\"3f795696-c436-45fd-bff4-be3010ad6fe1\",\"type\":\"Range1d\"},{\"attributes\":{\"bottom_units\":\"screen\",\"fill_alpha\":{\"value\":0.5},\"fill_color\":{\"value\":\"lightgrey\"},\"left_units\":\"screen\",\"level\":\"overlay\",\"line_alpha\":{\"value\":1.0},\"line_color\":{\"value\":\"black\"},\"line_dash\":[4,4],\"line_width\":{\"value\":2},\"plot\":null,\"render_mode\":\"css\",\"right_units\":\"screen\",\"top_units\":\"screen\"},\"id\":\"4e53dac6-dbd9-4734-a159-299950aeed9c\",\"type\":\"BoxAnnotation\"},{\"attributes\":{\"callback\":null,\"plot\":{\"id\":\"ee96d09f-04dc-43f9-8599-ff62c9aa5d2e\",\"subtype\":\"Figure\",\"type\":\"Plot\"},\"point_policy\":\"follow_mouse\",\"tooltips\":[[\"Time (s)\",\"@x\"],[\"Frequency (kHz)\",\"@y\"]]},\"id\":\"0680a38a-5fb1-469f-ad81-1757f47d9012\",\"type\":\"HoverTool\"},{\"attributes\":{\"plot\":{\"id\":\"ee96d09f-04dc-43f9-8599-ff62c9aa5d2e\",\"subtype\":\"Figure\",\"type\":\"Plot\"}},\"id\":\"b8b70f57-5a15-4b94-850a-25dc918e687c\",\"type\":\"SaveTool\"},{\"attributes\":{\"callback\":null,\"column_names\":[\"x\",\"y\"],\"data\":{\"x\":{\"__ndarray__\":\"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\",\"dtype\":\"float64\",\"shape\":[985]},\"y\":{\"__ndarray__\":\"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\",\"dtype\":\"float64\",\"shape\":[985]}}},\"id\":\"b62ae729-c91d-4446-b5ed-45112f9c1bf1\",\"type\":\"ColumnDataSource\"},{\"attributes\":{\"axis_label\":\"Time (s)\",\"formatter\":{\"id\":\"81fee5dd-a017-40f4-af0f-f4892c09ebd6\",\"type\":\"BasicTickFormatter\"},\"plot\":{\"id\":\"ee96d09f-04dc-43f9-8599-ff62c9aa5d2e\",\"subtype\":\"Figure\",\"type\":\"Plot\"},\"ticker\":{\"id\":\"89b836fb-ab8f-4dad-870f-10d35ea11783\",\"type\":\"BasicTicker\"}},\"id\":\"9ff59222-fcdb-43a4-8762-f226a1e02c7d\",\"type\":\"LinearAxis\"},{\"attributes\":{},\"id\":\"8f29febd-85e7-411f-b91e-ce27fbb36561\",\"type\":\"BasicTickFormatter\"},{\"attributes\":{},\"id\":\"5581cbd5-7645-42e9-8dba-ad9c43fa9c79\",\"type\":\"ToolEvents\"},{\"attributes\":{},\"id\":\"13ce816d-922d-491e-8f1b-b82146c3b270\",\"type\":\"BasicTicker\"},{\"attributes\":{},\"id\":\"89b836fb-ab8f-4dad-870f-10d35ea11783\",\"type\":\"BasicTicker\"},{\"attributes\":{\"plot\":{\"id\":\"ee96d09f-04dc-43f9-8599-ff62c9aa5d2e\",\"subtype\":\"Figure\",\"type\":\"Plot\"}},\"id\":\"b06165cb-e1e5-409e-b394-762dbde11e7c\",\"type\":\"WheelZoomTool\"},{\"attributes\":{\"active_drag\":\"auto\",\"active_scroll\":\"auto\",\"active_tap\":\"auto\",\"tools\":[{\"id\":\"0680a38a-5fb1-469f-ad81-1757f47d9012\",\"type\":\"HoverTool\"},{\"id\":\"b06165cb-e1e5-409e-b394-762dbde11e7c\",\"type\":\"WheelZoomTool\"},{\"id\":\"641713ad-97f6-455d-b396-db4ff5223866\",\"type\":\"BoxZoomTool\"},{\"id\":\"00393eeb-8d81-4c37-a35b-0b29c1beef65\",\"type\":\"CrosshairTool\"},{\"id\":\"3fad141b-8107-4762-9616-eee1cc6dc61b\",\"type\":\"UndoTool\"},{\"id\":\"392cf495-6252-4f3b-840c-9001883516d2\",\"type\":\"RedoTool\"},{\"id\":\"51e3b553-a847-4169-8e47-91ff2a339b24\",\"type\":\"ResetTool\"},{\"id\":\"0f2ffa00-df44-4719-b0aa-aced96b55016\",\"type\":\"ResizeTool\"},{\"id\":\"ad12fea7-6693-48a1-9dc9-3d0228eb6b95\",\"type\":\"PanTool\"},{\"id\":\"b8b70f57-5a15-4b94-850a-25dc918e687c\",\"type\":\"SaveTool\"}]},\"id\":\"e82e663a-e736-406a-b351-b7b219be04e4\",\"type\":\"Toolbar\"},{\"attributes\":{\"plot\":{\"id\":\"ee96d09f-04dc-43f9-8599-ff62c9aa5d2e\",\"subtype\":\"Figure\",\"type\":\"Plot\"}},\"id\":\"3fad141b-8107-4762-9616-eee1cc6dc61b\",\"type\":\"UndoTool\"},{\"attributes\":{\"axis_label\":\"ZC frequency (kHz)\",\"formatter\":{\"id\":\"8f29febd-85e7-411f-b91e-ce27fbb36561\",\"type\":\"BasicTickFormatter\"},\"plot\":{\"id\":\"ee96d09f-04dc-43f9-8599-ff62c9aa5d2e\",\"subtype\":\"Figure\",\"type\":\"Plot\"},\"ticker\":{\"id\":\"13ce816d-922d-491e-8f1b-b82146c3b270\",\"type\":\"BasicTicker\"}},\"id\":\"1a81a5da-358f-42ae-82ca-32a4abcf91a8\",\"type\":\"LinearAxis\"},{\"attributes\":{\"plot\":{\"id\":\"ee96d09f-04dc-43f9-8599-ff62c9aa5d2e\",\"subtype\":\"Figure\",\"type\":\"Plot\"}},\"id\":\"00393eeb-8d81-4c37-a35b-0b29c1beef65\",\"type\":\"CrosshairTool\"},{\"attributes\":{\"plot\":{\"id\":\"ee96d09f-04dc-43f9-8599-ff62c9aa5d2e\",\"subtype\":\"Figure\",\"type\":\"Plot\"}},\"id\":\"0f2ffa00-df44-4719-b0aa-aced96b55016\",\"type\":\"ResizeTool\"},{\"attributes\":{\"bounds\":[0,192.0],\"callback\":null,\"end\":192.0},\"id\":\"0dea57ff-e040-4c71-9883-8bee4c79cbef\",\"type\":\"Range1d\"},{\"attributes\":{\"dimension\":1,\"plot\":{\"id\":\"ee96d09f-04dc-43f9-8599-ff62c9aa5d2e\",\"subtype\":\"Figure\",\"type\":\"Plot\"},\"ticker\":{\"id\":\"13ce816d-922d-491e-8f1b-b82146c3b270\",\"type\":\"BasicTicker\"}},\"id\":\"0802dd6e-65dd-437b-9a10-70d025e707b3\",\"type\":\"Grid\"},{\"attributes\":{\"plot\":{\"id\":\"ee96d09f-04dc-43f9-8599-ff62c9aa5d2e\",\"subtype\":\"Figure\",\"type\":\"Plot\"}},\"id\":\"ad12fea7-6693-48a1-9dc9-3d0228eb6b95\",\"type\":\"PanTool\"},{\"attributes\":{\"plot\":null,\"text\":\"in_data/Mdau_TE384.wav\"},\"id\":\"563887ee-8d56-41c5-8f5d-74c3cfcf58f5\",\"type\":\"Title\"},{\"attributes\":{\"plot\":{\"id\":\"ee96d09f-04dc-43f9-8599-ff62c9aa5d2e\",\"subtype\":\"Figure\",\"type\":\"Plot\"}},\"id\":\"392cf495-6252-4f3b-840c-9001883516d2\",\"type\":\"RedoTool\"}],\"root_ids\":[\"ee96d09f-04dc-43f9-8599-ff62c9aa5d2e\"]},\"title\":\"Bokeh Application\",\"version\":\"0.12.4\"}};\n",
       "            var render_items = [{\"docid\":\"d8fa8561-f133-497b-969b-1dfb4e2f3087\",\"elementid\":\"89299574-b969-4d1b-9e0d-fe21ca8af188\",\"modelid\":\"ee96d09f-04dc-43f9-8599-ff62c9aa5d2e\"}];\n",
       "            \n",
       "            Bokeh.embed.embed_items(docs_json, render_items);\n",
       "          };\n",
       "          if (document.readyState != \"loading\") fn();\n",
       "          else document.addEventListener(\"DOMContentLoaded\", fn);\n",
       "        })();\n",
       "      },\n",
       "      function(Bokeh) {\n",
       "      }\n",
       "    ];\n",
       "  \n",
       "    function run_inline_js() {\n",
       "      \n",
       "      if ((window.Bokeh !== undefined) || (force === true)) {\n",
       "        for (var i = 0; i < inline_js.length; i++) {\n",
       "          inline_js[i](window.Bokeh);\n",
       "        }if (force === true) {\n",
       "          display_loaded();\n",
       "        }} else if (Date.now() < window._bokeh_timeout) {\n",
       "        setTimeout(run_inline_js, 100);\n",
       "      } else if (!window._bokeh_failed_load) {\n",
       "        console.log(\"Bokeh: BokehJS failed to load within specified timeout.\");\n",
       "        window._bokeh_failed_load = true;\n",
       "      } else if (force !== true) {\n",
       "        var cell = $(document.getElementById(\"89299574-b969-4d1b-9e0d-fe21ca8af188\")).parents('.cell').data().cell;\n",
       "        cell.output_area.append_execute_result(NB_LOAD_WARNING)\n",
       "      }\n",
       "  \n",
       "    }\n",
       "  \n",
       "    if (window._bokeh_is_loading === 0) {\n",
       "      console.log(\"Bokeh: BokehJS loaded, going straight to plotting\");\n",
       "      run_inline_js();\n",
       "    } else {\n",
       "      load_libs(js_urls, function() {\n",
       "        console.log(\"Bokeh: BokehJS plotting callback run at\", now());\n",
       "        run_inline_js();\n",
       "      });\n",
       "    }\n",
       "  }(this));\n",
       "</script>"
      ]
     },
     "metadata": {},
     "output_type": "display_data"
    }
   ],
   "source": [
    "# Plotting using Bokeh.\n",
    "TOOLS=\"hover,wheel_zoom,box_zoom,crosshair,undo,redo,reset,resize,pan,previewsave\"\n",
    "# TOOLS=\"undo,redo,resize,crosshair,pan,wheel_zoom,box_zoom,reset,tap,previewsave,box_select,poly_select,lasso_select\"\n",
    "p = figure(tools=TOOLS, toolbar_location=\"above\")\n",
    "p.title.text = sound_file\n",
    "p.plot_width = 900 \n",
    "p.plot_height = 600\n",
    "p.circle(time_array_s, freq_array_khz, size=2, color=\"navy\", alpha=0.5)\n",
    "\n",
    "x_len = len(signal_int16) / sampling_freq\n",
    "y_max = sampling_freq / 1000 / 2\n",
    "\n",
    "p.xaxis.axis_label=\"Time (s)\"\n",
    "p.yaxis.axis_label=\"ZC frequency (kHz)\"\n",
    "p.x_range = Range1d(0, x_len, bounds=(0, x_len))\n",
    "p.y_range = Range1d(0, y_max, bounds=(0, y_max))\n",
    "\n",
    "hover = p.select_one(HoverTool)\n",
    "hover.point_policy = \"follow_mouse\"\n",
    "hover.tooltips = [\n",
    "         (\"Time (s)\", \"@x\"),\n",
    "         (\"Frequency (kHz)\", \"@y\"),\n",
    "    ]\n",
    "\n",
    "print('Number of plotted values: ' + str(len(zero_crossings)) + ', divratio: ' + str(zc_divratio))\n",
    "\n",
    "show(p)"
   ]
  },
  {
   "cell_type": "code",
   "execution_count": null,
   "metadata": {
    "collapsed": true,
    "deletable": true,
    "editable": true
   },
   "outputs": [],
   "source": []
  },
  {
   "cell_type": "code",
   "execution_count": null,
   "metadata": {
    "collapsed": true,
    "deletable": true,
    "editable": true
   },
   "outputs": [],
   "source": []
  },
  {
   "cell_type": "code",
   "execution_count": null,
   "metadata": {
    "collapsed": true,
    "deletable": true,
    "editable": true
   },
   "outputs": [],
   "source": []
  },
  {
   "cell_type": "code",
   "execution_count": null,
   "metadata": {
    "collapsed": true,
    "deletable": true,
    "editable": true
   },
   "outputs": [],
   "source": []
  },
  {
   "cell_type": "code",
   "execution_count": null,
   "metadata": {
    "collapsed": true,
    "deletable": true,
    "editable": true
   },
   "outputs": [],
   "source": []
  },
  {
   "cell_type": "code",
   "execution_count": null,
   "metadata": {
    "collapsed": true,
    "deletable": true,
    "editable": true
   },
   "outputs": [],
   "source": []
  },
  {
   "cell_type": "code",
   "execution_count": null,
   "metadata": {
    "collapsed": true,
    "deletable": true,
    "editable": true
   },
   "outputs": [],
   "source": []
  },
  {
   "cell_type": "code",
   "execution_count": null,
   "metadata": {
    "collapsed": true,
    "deletable": true,
    "editable": true
   },
   "outputs": [],
   "source": []
  },
  {
   "cell_type": "code",
   "execution_count": null,
   "metadata": {
    "collapsed": true,
    "deletable": true,
    "editable": true
   },
   "outputs": [],
   "source": []
  },
  {
   "cell_type": "code",
   "execution_count": null,
   "metadata": {
    "collapsed": true,
    "deletable": true,
    "editable": true
   },
   "outputs": [],
   "source": []
  }
 ],
 "metadata": {
  "kernelspec": {
   "display_name": "Python 3",
   "language": "python",
   "name": "python3"
  },
  "language_info": {
   "codemirror_mode": {
    "name": "ipython",
    "version": 3
   },
   "file_extension": ".py",
   "mimetype": "text/x-python",
   "name": "python",
   "nbconvert_exporter": "python",
   "pygments_lexer": "ipython3",
   "version": "3.5.2"
  }
 },
 "nbformat": 4,
 "nbformat_minor": 2
}
